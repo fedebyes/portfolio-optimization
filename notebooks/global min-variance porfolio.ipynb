{
 "cells": [
  {
   "cell_type": "code",
   "execution_count": 2,
   "metadata": {},
   "outputs": [],
   "source": [
    "import pandas as pd \n",
    "import numpy as np \n",
    "import matplotlib.pyplot as plt\n",
    "import math\n",
    "import numpy.random as nrand"
   ]
  },
  {
   "cell_type": "code",
   "execution_count": 3,
   "metadata": {},
   "outputs": [
    {
     "data": {
      "text/plain": "            AT0000606306  AT0000652011  AT0000720008  AT0000730007  \\\nDate                                                                 \n2007-12-31    112.167370     59.383175     19.258022        20.625   \n2008-01-31     80.967740     36.013920     17.278828        16.505   \n2008-02-29     81.781730     38.302097     13.780717        18.675   \n2008-03-31     82.691475     40.838990     12.050072        17.385   \n2008-04-30     99.689440     47.454807     14.590806        19.110   \n2008-05-30     92.267790     48.817764     14.112116        21.745   \n2008-06-30     77.730940     39.336754     12.685255        20.025   \n2008-07-31     76.802040     41.037964     12.188155        19.250   \n2008-08-29     71.812780     40.769350     13.541372        21.030   \n2008-09-30     47.852844     34.272920     11.405684        15.000   \n2008-10-31     23.461971     20.633390      8.837334        11.055   \n2008-11-28     20.732721     17.708502      9.610599         9.040   \n2008-12-30     18.482286     16.116728      9.481722         9.080   \n\n            AT0000743059  AT0000746409  AT0000831706  AT0000908504  \\\nDate                                                                 \n2007-12-31     40.785840         37.10     42.549564     56.038006   \n2008-01-31     47.667890         44.10     27.696133     51.488980   \n2008-02-29     47.568584         49.05     29.006388     55.378147   \n2008-03-31     41.570374         45.09     30.443153     48.519615   \n2008-04-30     48.114777         49.74     33.452230     48.080000   \n2008-05-30     52.553850         54.30     30.804605     48.880000   \n2008-06-30     49.515022         56.92     24.099700     41.940000   \n2008-07-31     44.092800         51.12     15.632727     42.850000   \n2008-08-29     43.457226         51.56     16.265265     42.600000   \n2008-09-30     29.127068         43.15     17.150818     35.010000   \n2008-10-31     24.817095         37.00     11.656773     21.000000   \n2008-11-28     19.563698         34.70     10.030248     21.600000   \n2008-12-30     18.590477         32.56     10.753147     24.120000   \n\n            AT0000937503  AT0000A21KS2  ...  SE0000695876  SE0000825820  \\\nDate                                    ...                               \n2007-12-31         44.40     88.900185  ...        81.500     52.186146   \n2008-01-31         40.98     48.303703  ...        84.625     44.375973   \n2008-02-29         41.80     54.789978  ...        83.875     57.688766   \n2008-03-31         44.00     52.348087  ...        90.250     57.333755   \n2008-04-30         49.25     54.103200  ...        98.500     59.463802   \n2008-05-30         53.57     57.766045  ...       105.125     65.853940   \n2008-06-30         52.15     49.982506  ...        93.750     63.191387   \n2008-07-31         42.35     44.411938  ...        95.000     56.801247   \n2008-08-29         37.06     47.311684  ...        88.500     50.056095   \n2008-09-30         21.75     18.619438  ...        70.250     40.115883   \n2008-10-31         19.00      6.638898  ...        54.750     25.773563   \n2008-11-28         16.50      2.747130  ...        63.250     27.832610   \n2008-12-30         15.04      3.739149  ...        67.500     29.110638   \n\n            SE0001662230  SE0005190238  SE0007100581  SE0007100599  \\\nDate                                                                 \n2007-12-31     68.086105     54.765877     50.666615     70.833270   \n2008-01-31     54.428574     68.723200     36.666630     59.166610   \n2008-02-29     57.171097     58.089046     37.249960     57.833280   \n2008-03-31     60.335550     59.684170     35.916630     57.666610   \n2008-04-30     52.107975     70.982960     31.166634     55.499947   \n2008-05-30     52.107975     68.191490     34.666630     55.666615   \n2008-06-30     44.513290     62.741486     29.083303     47.833286   \n2008-07-31     42.614620     56.626850     27.749971     51.499950   \n2008-08-29     44.091362     52.904900     30.833302     51.833282   \n2008-09-30     43.247510     41.340260     27.499971     50.666620   \n2008-10-31     44.935215     34.826843     28.499970     46.499954   \n2008-11-28     39.407974     34.959770     26.083305     44.833290   \n2008-12-30     34.851162     36.687820     29.499970     41.999960   \n\n            SE0011090018  SE0011166610  SE0012455673  SE0013256682  \nDate                                                                \n2007-12-31        151.25     71.263020    143.688080     83.767850  \n2008-01-31        105.50     63.464573     55.195290     86.347980  \n2008-02-29        106.75     68.400700     68.451800     82.219790  \n2008-03-31        102.75     71.573930     60.979946     77.575570  \n2008-04-30         96.00     68.048120     62.908165     88.412070  \n2008-05-30        102.25     74.923450     65.318440     89.960140  \n2008-06-30         88.50     62.583120     47.337790     77.919586  \n2008-07-31         89.50     66.637800     34.611540     62.954900  \n2008-08-29        103.25     63.817150     39.239273     66.051030  \n2008-09-30        111.00     54.650047     27.380718     55.386550  \n2008-10-31        109.00     44.777782     17.836033     40.593864  \n2008-11-28         97.50     40.194225     18.318087     37.497723  \n2008-12-30         96.75     47.069557     17.161154     43.345997  \n\n[13 rows x 486 columns]",
      "text/html": "<div>\n<style scoped>\n    .dataframe tbody tr th:only-of-type {\n        vertical-align: middle;\n    }\n\n    .dataframe tbody tr th {\n        vertical-align: top;\n    }\n\n    .dataframe thead th {\n        text-align: right;\n    }\n</style>\n<table border=\"1\" class=\"dataframe\">\n  <thead>\n    <tr style=\"text-align: right;\">\n      <th></th>\n      <th>AT0000606306</th>\n      <th>AT0000652011</th>\n      <th>AT0000720008</th>\n      <th>AT0000730007</th>\n      <th>AT0000743059</th>\n      <th>AT0000746409</th>\n      <th>AT0000831706</th>\n      <th>AT0000908504</th>\n      <th>AT0000937503</th>\n      <th>AT0000A21KS2</th>\n      <th>...</th>\n      <th>SE0000695876</th>\n      <th>SE0000825820</th>\n      <th>SE0001662230</th>\n      <th>SE0005190238</th>\n      <th>SE0007100581</th>\n      <th>SE0007100599</th>\n      <th>SE0011090018</th>\n      <th>SE0011166610</th>\n      <th>SE0012455673</th>\n      <th>SE0013256682</th>\n    </tr>\n    <tr>\n      <th>Date</th>\n      <th></th>\n      <th></th>\n      <th></th>\n      <th></th>\n      <th></th>\n      <th></th>\n      <th></th>\n      <th></th>\n      <th></th>\n      <th></th>\n      <th></th>\n      <th></th>\n      <th></th>\n      <th></th>\n      <th></th>\n      <th></th>\n      <th></th>\n      <th></th>\n      <th></th>\n      <th></th>\n      <th></th>\n    </tr>\n  </thead>\n  <tbody>\n    <tr>\n      <th>2007-12-31</th>\n      <td>112.167370</td>\n      <td>59.383175</td>\n      <td>19.258022</td>\n      <td>20.625</td>\n      <td>40.785840</td>\n      <td>37.10</td>\n      <td>42.549564</td>\n      <td>56.038006</td>\n      <td>44.40</td>\n      <td>88.900185</td>\n      <td>...</td>\n      <td>81.500</td>\n      <td>52.186146</td>\n      <td>68.086105</td>\n      <td>54.765877</td>\n      <td>50.666615</td>\n      <td>70.833270</td>\n      <td>151.25</td>\n      <td>71.263020</td>\n      <td>143.688080</td>\n      <td>83.767850</td>\n    </tr>\n    <tr>\n      <th>2008-01-31</th>\n      <td>80.967740</td>\n      <td>36.013920</td>\n      <td>17.278828</td>\n      <td>16.505</td>\n      <td>47.667890</td>\n      <td>44.10</td>\n      <td>27.696133</td>\n      <td>51.488980</td>\n      <td>40.98</td>\n      <td>48.303703</td>\n      <td>...</td>\n      <td>84.625</td>\n      <td>44.375973</td>\n      <td>54.428574</td>\n      <td>68.723200</td>\n      <td>36.666630</td>\n      <td>59.166610</td>\n      <td>105.50</td>\n      <td>63.464573</td>\n      <td>55.195290</td>\n      <td>86.347980</td>\n    </tr>\n    <tr>\n      <th>2008-02-29</th>\n      <td>81.781730</td>\n      <td>38.302097</td>\n      <td>13.780717</td>\n      <td>18.675</td>\n      <td>47.568584</td>\n      <td>49.05</td>\n      <td>29.006388</td>\n      <td>55.378147</td>\n      <td>41.80</td>\n      <td>54.789978</td>\n      <td>...</td>\n      <td>83.875</td>\n      <td>57.688766</td>\n      <td>57.171097</td>\n      <td>58.089046</td>\n      <td>37.249960</td>\n      <td>57.833280</td>\n      <td>106.75</td>\n      <td>68.400700</td>\n      <td>68.451800</td>\n      <td>82.219790</td>\n    </tr>\n    <tr>\n      <th>2008-03-31</th>\n      <td>82.691475</td>\n      <td>40.838990</td>\n      <td>12.050072</td>\n      <td>17.385</td>\n      <td>41.570374</td>\n      <td>45.09</td>\n      <td>30.443153</td>\n      <td>48.519615</td>\n      <td>44.00</td>\n      <td>52.348087</td>\n      <td>...</td>\n      <td>90.250</td>\n      <td>57.333755</td>\n      <td>60.335550</td>\n      <td>59.684170</td>\n      <td>35.916630</td>\n      <td>57.666610</td>\n      <td>102.75</td>\n      <td>71.573930</td>\n      <td>60.979946</td>\n      <td>77.575570</td>\n    </tr>\n    <tr>\n      <th>2008-04-30</th>\n      <td>99.689440</td>\n      <td>47.454807</td>\n      <td>14.590806</td>\n      <td>19.110</td>\n      <td>48.114777</td>\n      <td>49.74</td>\n      <td>33.452230</td>\n      <td>48.080000</td>\n      <td>49.25</td>\n      <td>54.103200</td>\n      <td>...</td>\n      <td>98.500</td>\n      <td>59.463802</td>\n      <td>52.107975</td>\n      <td>70.982960</td>\n      <td>31.166634</td>\n      <td>55.499947</td>\n      <td>96.00</td>\n      <td>68.048120</td>\n      <td>62.908165</td>\n      <td>88.412070</td>\n    </tr>\n    <tr>\n      <th>2008-05-30</th>\n      <td>92.267790</td>\n      <td>48.817764</td>\n      <td>14.112116</td>\n      <td>21.745</td>\n      <td>52.553850</td>\n      <td>54.30</td>\n      <td>30.804605</td>\n      <td>48.880000</td>\n      <td>53.57</td>\n      <td>57.766045</td>\n      <td>...</td>\n      <td>105.125</td>\n      <td>65.853940</td>\n      <td>52.107975</td>\n      <td>68.191490</td>\n      <td>34.666630</td>\n      <td>55.666615</td>\n      <td>102.25</td>\n      <td>74.923450</td>\n      <td>65.318440</td>\n      <td>89.960140</td>\n    </tr>\n    <tr>\n      <th>2008-06-30</th>\n      <td>77.730940</td>\n      <td>39.336754</td>\n      <td>12.685255</td>\n      <td>20.025</td>\n      <td>49.515022</td>\n      <td>56.92</td>\n      <td>24.099700</td>\n      <td>41.940000</td>\n      <td>52.15</td>\n      <td>49.982506</td>\n      <td>...</td>\n      <td>93.750</td>\n      <td>63.191387</td>\n      <td>44.513290</td>\n      <td>62.741486</td>\n      <td>29.083303</td>\n      <td>47.833286</td>\n      <td>88.50</td>\n      <td>62.583120</td>\n      <td>47.337790</td>\n      <td>77.919586</td>\n    </tr>\n    <tr>\n      <th>2008-07-31</th>\n      <td>76.802040</td>\n      <td>41.037964</td>\n      <td>12.188155</td>\n      <td>19.250</td>\n      <td>44.092800</td>\n      <td>51.12</td>\n      <td>15.632727</td>\n      <td>42.850000</td>\n      <td>42.35</td>\n      <td>44.411938</td>\n      <td>...</td>\n      <td>95.000</td>\n      <td>56.801247</td>\n      <td>42.614620</td>\n      <td>56.626850</td>\n      <td>27.749971</td>\n      <td>51.499950</td>\n      <td>89.50</td>\n      <td>66.637800</td>\n      <td>34.611540</td>\n      <td>62.954900</td>\n    </tr>\n    <tr>\n      <th>2008-08-29</th>\n      <td>71.812780</td>\n      <td>40.769350</td>\n      <td>13.541372</td>\n      <td>21.030</td>\n      <td>43.457226</td>\n      <td>51.56</td>\n      <td>16.265265</td>\n      <td>42.600000</td>\n      <td>37.06</td>\n      <td>47.311684</td>\n      <td>...</td>\n      <td>88.500</td>\n      <td>50.056095</td>\n      <td>44.091362</td>\n      <td>52.904900</td>\n      <td>30.833302</td>\n      <td>51.833282</td>\n      <td>103.25</td>\n      <td>63.817150</td>\n      <td>39.239273</td>\n      <td>66.051030</td>\n    </tr>\n    <tr>\n      <th>2008-09-30</th>\n      <td>47.852844</td>\n      <td>34.272920</td>\n      <td>11.405684</td>\n      <td>15.000</td>\n      <td>29.127068</td>\n      <td>43.15</td>\n      <td>17.150818</td>\n      <td>35.010000</td>\n      <td>21.75</td>\n      <td>18.619438</td>\n      <td>...</td>\n      <td>70.250</td>\n      <td>40.115883</td>\n      <td>43.247510</td>\n      <td>41.340260</td>\n      <td>27.499971</td>\n      <td>50.666620</td>\n      <td>111.00</td>\n      <td>54.650047</td>\n      <td>27.380718</td>\n      <td>55.386550</td>\n    </tr>\n    <tr>\n      <th>2008-10-31</th>\n      <td>23.461971</td>\n      <td>20.633390</td>\n      <td>8.837334</td>\n      <td>11.055</td>\n      <td>24.817095</td>\n      <td>37.00</td>\n      <td>11.656773</td>\n      <td>21.000000</td>\n      <td>19.00</td>\n      <td>6.638898</td>\n      <td>...</td>\n      <td>54.750</td>\n      <td>25.773563</td>\n      <td>44.935215</td>\n      <td>34.826843</td>\n      <td>28.499970</td>\n      <td>46.499954</td>\n      <td>109.00</td>\n      <td>44.777782</td>\n      <td>17.836033</td>\n      <td>40.593864</td>\n    </tr>\n    <tr>\n      <th>2008-11-28</th>\n      <td>20.732721</td>\n      <td>17.708502</td>\n      <td>9.610599</td>\n      <td>9.040</td>\n      <td>19.563698</td>\n      <td>34.70</td>\n      <td>10.030248</td>\n      <td>21.600000</td>\n      <td>16.50</td>\n      <td>2.747130</td>\n      <td>...</td>\n      <td>63.250</td>\n      <td>27.832610</td>\n      <td>39.407974</td>\n      <td>34.959770</td>\n      <td>26.083305</td>\n      <td>44.833290</td>\n      <td>97.50</td>\n      <td>40.194225</td>\n      <td>18.318087</td>\n      <td>37.497723</td>\n    </tr>\n    <tr>\n      <th>2008-12-30</th>\n      <td>18.482286</td>\n      <td>16.116728</td>\n      <td>9.481722</td>\n      <td>9.080</td>\n      <td>18.590477</td>\n      <td>32.56</td>\n      <td>10.753147</td>\n      <td>24.120000</td>\n      <td>15.04</td>\n      <td>3.739149</td>\n      <td>...</td>\n      <td>67.500</td>\n      <td>29.110638</td>\n      <td>34.851162</td>\n      <td>36.687820</td>\n      <td>29.499970</td>\n      <td>41.999960</td>\n      <td>96.75</td>\n      <td>47.069557</td>\n      <td>17.161154</td>\n      <td>43.345997</td>\n    </tr>\n  </tbody>\n</table>\n<p>13 rows × 486 columns</p>\n</div>"
     },
     "execution_count": 3,
     "metadata": {},
     "output_type": "execute_result"
    }
   ],
   "source": [
    "#iport stock prices\n",
    "stocks = pd.read_csv('../data/stock_values_2018.csv', parse_dates =[\"Date\"], index_col=\"Date\")\n",
    "stocks"
   ]
  },
  {
   "cell_type": "code",
   "execution_count": 4,
   "metadata": {},
   "outputs": [
    {
     "data": {
      "text/plain": "            AT0000606306  AT0000652011  AT0000720008  AT0000730007  \\\nDate                                                                 \n2008-01-31     -0.278152     -0.393533     -0.102772     -0.199758   \n2008-02-29      0.010053      0.063536     -0.202451      0.131475   \n2008-03-31      0.011124      0.066234     -0.125585     -0.069076   \n2008-04-30      0.205559      0.161998      0.210848      0.099223   \n2008-05-30     -0.074448      0.028721     -0.032808      0.137886   \n\n            AT0000743059  AT0000746409  AT0000831706  AT0000908504  \\\nDate                                                                 \n2008-01-31      0.168736      0.188679     -0.349085     -0.081178   \n2008-02-29     -0.002083      0.112245      0.047308      0.075534   \n2008-03-31     -0.126096     -0.080734      0.049533     -0.123849   \n2008-04-30      0.157429      0.103127      0.098842     -0.009061   \n2008-05-30      0.092260      0.091677     -0.079146      0.016639   \n\n            AT0000937503  AT0000A21KS2  ...  SE0000695876  SE0000825820  \\\nDate                                    ...                               \n2008-01-31     -0.077027     -0.456652  ...      0.038344     -0.149660   \n2008-02-29      0.020010      0.134281  ...     -0.008863      0.300000   \n2008-03-31      0.052632     -0.044568  ...      0.076006     -0.006154   \n2008-04-30      0.119318      0.033528  ...      0.091413      0.037152   \n2008-05-30      0.087716      0.067701  ...      0.067259      0.107463   \n\n            SE0001662230  SE0005190238  SE0007100581  SE0007100599  \\\nDate                                                                 \n2008-01-31     -0.200592      0.254854     -0.276316     -0.164706   \n2008-02-29      0.050388     -0.154739      0.015909     -0.022535   \n2008-03-31      0.055351      0.027460     -0.035794     -0.002882   \n2008-04-30     -0.136364      0.189310     -0.132251     -0.037572   \n2008-05-30      0.000000     -0.039326      0.112299      0.003003   \n\n            SE0011090018  SE0011166610  SE0012455673  SE0013256682  \nDate                                                                \n2008-01-31     -0.302479     -0.109432     -0.615867      0.030801  \n2008-02-29      0.011848      0.077778      0.240175     -0.047809  \n2008-03-31     -0.037471      0.046392     -0.109155     -0.056485  \n2008-04-30     -0.065693     -0.049261      0.031621      0.139690  \n2008-05-30      0.065104      0.101036      0.038314      0.017510  \n\n[5 rows x 486 columns]",
      "text/html": "<div>\n<style scoped>\n    .dataframe tbody tr th:only-of-type {\n        vertical-align: middle;\n    }\n\n    .dataframe tbody tr th {\n        vertical-align: top;\n    }\n\n    .dataframe thead th {\n        text-align: right;\n    }\n</style>\n<table border=\"1\" class=\"dataframe\">\n  <thead>\n    <tr style=\"text-align: right;\">\n      <th></th>\n      <th>AT0000606306</th>\n      <th>AT0000652011</th>\n      <th>AT0000720008</th>\n      <th>AT0000730007</th>\n      <th>AT0000743059</th>\n      <th>AT0000746409</th>\n      <th>AT0000831706</th>\n      <th>AT0000908504</th>\n      <th>AT0000937503</th>\n      <th>AT0000A21KS2</th>\n      <th>...</th>\n      <th>SE0000695876</th>\n      <th>SE0000825820</th>\n      <th>SE0001662230</th>\n      <th>SE0005190238</th>\n      <th>SE0007100581</th>\n      <th>SE0007100599</th>\n      <th>SE0011090018</th>\n      <th>SE0011166610</th>\n      <th>SE0012455673</th>\n      <th>SE0013256682</th>\n    </tr>\n    <tr>\n      <th>Date</th>\n      <th></th>\n      <th></th>\n      <th></th>\n      <th></th>\n      <th></th>\n      <th></th>\n      <th></th>\n      <th></th>\n      <th></th>\n      <th></th>\n      <th></th>\n      <th></th>\n      <th></th>\n      <th></th>\n      <th></th>\n      <th></th>\n      <th></th>\n      <th></th>\n      <th></th>\n      <th></th>\n      <th></th>\n    </tr>\n  </thead>\n  <tbody>\n    <tr>\n      <th>2008-01-31</th>\n      <td>-0.278152</td>\n      <td>-0.393533</td>\n      <td>-0.102772</td>\n      <td>-0.199758</td>\n      <td>0.168736</td>\n      <td>0.188679</td>\n      <td>-0.349085</td>\n      <td>-0.081178</td>\n      <td>-0.077027</td>\n      <td>-0.456652</td>\n      <td>...</td>\n      <td>0.038344</td>\n      <td>-0.149660</td>\n      <td>-0.200592</td>\n      <td>0.254854</td>\n      <td>-0.276316</td>\n      <td>-0.164706</td>\n      <td>-0.302479</td>\n      <td>-0.109432</td>\n      <td>-0.615867</td>\n      <td>0.030801</td>\n    </tr>\n    <tr>\n      <th>2008-02-29</th>\n      <td>0.010053</td>\n      <td>0.063536</td>\n      <td>-0.202451</td>\n      <td>0.131475</td>\n      <td>-0.002083</td>\n      <td>0.112245</td>\n      <td>0.047308</td>\n      <td>0.075534</td>\n      <td>0.020010</td>\n      <td>0.134281</td>\n      <td>...</td>\n      <td>-0.008863</td>\n      <td>0.300000</td>\n      <td>0.050388</td>\n      <td>-0.154739</td>\n      <td>0.015909</td>\n      <td>-0.022535</td>\n      <td>0.011848</td>\n      <td>0.077778</td>\n      <td>0.240175</td>\n      <td>-0.047809</td>\n    </tr>\n    <tr>\n      <th>2008-03-31</th>\n      <td>0.011124</td>\n      <td>0.066234</td>\n      <td>-0.125585</td>\n      <td>-0.069076</td>\n      <td>-0.126096</td>\n      <td>-0.080734</td>\n      <td>0.049533</td>\n      <td>-0.123849</td>\n      <td>0.052632</td>\n      <td>-0.044568</td>\n      <td>...</td>\n      <td>0.076006</td>\n      <td>-0.006154</td>\n      <td>0.055351</td>\n      <td>0.027460</td>\n      <td>-0.035794</td>\n      <td>-0.002882</td>\n      <td>-0.037471</td>\n      <td>0.046392</td>\n      <td>-0.109155</td>\n      <td>-0.056485</td>\n    </tr>\n    <tr>\n      <th>2008-04-30</th>\n      <td>0.205559</td>\n      <td>0.161998</td>\n      <td>0.210848</td>\n      <td>0.099223</td>\n      <td>0.157429</td>\n      <td>0.103127</td>\n      <td>0.098842</td>\n      <td>-0.009061</td>\n      <td>0.119318</td>\n      <td>0.033528</td>\n      <td>...</td>\n      <td>0.091413</td>\n      <td>0.037152</td>\n      <td>-0.136364</td>\n      <td>0.189310</td>\n      <td>-0.132251</td>\n      <td>-0.037572</td>\n      <td>-0.065693</td>\n      <td>-0.049261</td>\n      <td>0.031621</td>\n      <td>0.139690</td>\n    </tr>\n    <tr>\n      <th>2008-05-30</th>\n      <td>-0.074448</td>\n      <td>0.028721</td>\n      <td>-0.032808</td>\n      <td>0.137886</td>\n      <td>0.092260</td>\n      <td>0.091677</td>\n      <td>-0.079146</td>\n      <td>0.016639</td>\n      <td>0.087716</td>\n      <td>0.067701</td>\n      <td>...</td>\n      <td>0.067259</td>\n      <td>0.107463</td>\n      <td>0.000000</td>\n      <td>-0.039326</td>\n      <td>0.112299</td>\n      <td>0.003003</td>\n      <td>0.065104</td>\n      <td>0.101036</td>\n      <td>0.038314</td>\n      <td>0.017510</td>\n    </tr>\n  </tbody>\n</table>\n<p>5 rows × 486 columns</p>\n</div>"
     },
     "execution_count": 4,
     "metadata": {},
     "output_type": "execute_result"
    }
   ],
   "source": [
    "#calculate stock returns\n",
    "returns = stocks.pct_change().dropna()\n",
    "returns.head()"
   ]
  },
  {
   "cell_type": "code",
   "execution_count": 5,
   "metadata": {},
   "outputs": [
    {
     "data": {
      "text/plain": "AT0000606306    0.034631\nAT0000652011    0.032302\nAT0000720008    0.017388\nAT0000730007    0.023291\nAT0000743059    0.021635\n                  ...   \nSE0007100599    0.004331\nSE0011090018    0.013644\nSE0011166610    0.013617\nSE0012455673    0.058571\nSE0013256682    0.016958\nLength: 486, dtype: float64"
     },
     "execution_count": 5,
     "metadata": {},
     "output_type": "execute_result"
    }
   ],
   "source": [
    "#variance\n",
    "var = returns.var()\n",
    "var"
   ]
  },
  {
   "cell_type": "code",
   "execution_count": 6,
   "metadata": {},
   "outputs": [
    {
     "data": {
      "text/plain": "AT0000606306    0.186095\nAT0000652011    0.179727\nAT0000720008    0.131862\nAT0000730007    0.152613\nAT0000743059    0.147090\n                  ...   \nSE0007100599    0.065812\nSE0011090018    0.116810\nSE0011166610    0.116691\nSE0012455673    0.242014\nSE0013256682    0.130223\nLength: 486, dtype: float64"
     },
     "execution_count": 6,
     "metadata": {},
     "output_type": "execute_result"
    }
   ],
   "source": [
    "#standard deviation\n",
    "std = returns.std()\n",
    "std"
   ]
  },
  {
   "cell_type": "code",
   "execution_count": 7,
   "metadata": {},
   "outputs": [],
   "source": [
    "#covariance matrix\n",
    "cov_matrix = returns.cov()"
   ]
  },
  {
   "cell_type": "code",
   "execution_count": 8,
   "metadata": {},
   "outputs": [],
   "source": [
    "# correlation matrix\n",
    "corr_matrix = returns.corr()"
   ]
  },
  {
   "cell_type": "code",
   "execution_count": 9,
   "metadata": {},
   "outputs": [],
   "source": [
    "# returns.corr().plot(kind='bar')"
   ]
  },
  {
   "cell_type": "code",
   "execution_count": 10,
   "metadata": {},
   "outputs": [
    {
     "data": {
      "text/plain": "AT0000606306   -0.835226\nAT0000652011   -0.728598\nAT0000720008   -0.507648\nAT0000730007   -0.559758\nAT0000743059   -0.544193\n                  ...   \nSE0007100599   -0.407059\nSE0011090018   -0.360331\nSE0011166610   -0.339495\nSE0012455673   -0.880567\nSE0013256682   -0.482546\nLength: 486, dtype: float64"
     },
     "execution_count": 10,
     "metadata": {},
     "output_type": "execute_result"
    }
   ],
   "source": [
    "#expected returns\n",
    "e_r = stocks.resample('Y').last().pct_change().mean()\n",
    "e_r\n",
    "\n",
    "# (e_r*w).sum()\n",
    "# np.dot(w,e_r)"
   ]
  },
  {
   "cell_type": "code",
   "execution_count": 11,
   "metadata": {},
   "outputs": [
    {
     "data": {
      "text/plain": "AT0000606306    3.728806\nAT0000652011    3.397705\nAT0000720008    2.145992\nAT0000730007    2.626637\nAT0000743059    2.533074\n                  ...   \nSE0007100599    1.103739\nSE0011090018    2.038185\nSE0011166610    1.889679\nSE0012455673    5.082946\nSE0013256682    2.190959\nLength: 486, dtype: float64"
     },
     "execution_count": 11,
     "metadata": {},
     "output_type": "execute_result"
    }
   ],
   "source": [
    "sd = stocks.pct_change().apply(lambda x: np.log(1+x)).std().apply(lambda x: x*np.sqrt(250))\n",
    "sd"
   ]
  },
  {
   "cell_type": "code",
   "execution_count": 12,
   "metadata": {},
   "outputs": [
    {
     "data": {
      "text/plain": "               Returns  Volatility\nAT0000606306 -0.835226    3.728806\nAT0000652011 -0.728598    3.397705\nAT0000720008 -0.507648    2.145992\nAT0000730007 -0.559758    2.626637\nAT0000743059 -0.544193    2.533074\n...                ...         ...\nSE0007100599 -0.407059    1.103739\nSE0011090018 -0.360331    2.038185\nSE0011166610 -0.339495    1.889679\nSE0012455673 -0.880567    5.082946\nSE0013256682 -0.482546    2.190959\n\n[486 rows x 2 columns]",
      "text/html": "<div>\n<style scoped>\n    .dataframe tbody tr th:only-of-type {\n        vertical-align: middle;\n    }\n\n    .dataframe tbody tr th {\n        vertical-align: top;\n    }\n\n    .dataframe thead th {\n        text-align: right;\n    }\n</style>\n<table border=\"1\" class=\"dataframe\">\n  <thead>\n    <tr style=\"text-align: right;\">\n      <th></th>\n      <th>Returns</th>\n      <th>Volatility</th>\n    </tr>\n  </thead>\n  <tbody>\n    <tr>\n      <th>AT0000606306</th>\n      <td>-0.835226</td>\n      <td>3.728806</td>\n    </tr>\n    <tr>\n      <th>AT0000652011</th>\n      <td>-0.728598</td>\n      <td>3.397705</td>\n    </tr>\n    <tr>\n      <th>AT0000720008</th>\n      <td>-0.507648</td>\n      <td>2.145992</td>\n    </tr>\n    <tr>\n      <th>AT0000730007</th>\n      <td>-0.559758</td>\n      <td>2.626637</td>\n    </tr>\n    <tr>\n      <th>AT0000743059</th>\n      <td>-0.544193</td>\n      <td>2.533074</td>\n    </tr>\n    <tr>\n      <th>...</th>\n      <td>...</td>\n      <td>...</td>\n    </tr>\n    <tr>\n      <th>SE0007100599</th>\n      <td>-0.407059</td>\n      <td>1.103739</td>\n    </tr>\n    <tr>\n      <th>SE0011090018</th>\n      <td>-0.360331</td>\n      <td>2.038185</td>\n    </tr>\n    <tr>\n      <th>SE0011166610</th>\n      <td>-0.339495</td>\n      <td>1.889679</td>\n    </tr>\n    <tr>\n      <th>SE0012455673</th>\n      <td>-0.880567</td>\n      <td>5.082946</td>\n    </tr>\n    <tr>\n      <th>SE0013256682</th>\n      <td>-0.482546</td>\n      <td>2.190959</td>\n    </tr>\n  </tbody>\n</table>\n<p>486 rows × 2 columns</p>\n</div>"
     },
     "execution_count": 12,
     "metadata": {},
     "output_type": "execute_result"
    }
   ],
   "source": [
    "assets = pd.concat([e_r, sd], axis=1)\n",
    "assets.columns = ['Returns', 'Volatility']\n",
    "assets"
   ]
  },
  {
   "cell_type": "code",
   "execution_count": 13,
   "metadata": {},
   "outputs": [],
   "source": [
    "p_ret = []\n",
    "p_vol = []\n",
    "p_weights = []\n",
    "\n",
    "num_stocks = len(stocks.columns)\n",
    "num_portfolios = 10"
   ]
  },
  {
   "cell_type": "code",
   "execution_count": 14,
   "metadata": {},
   "outputs": [],
   "source": [
    "for portfolio in range(num_portfolios):\n",
    "    weights = np.random.random(num_stocks)\n",
    "    weights = weights/np.sum(weights)\n",
    "    p_weights.append(weights)\n",
    "    returns_p = np.dot(weights, e_r)\n",
    "    p_ret.append(returns_p)\n",
    "    var = cov_matrix.mul(weights, axis=0).mul(weights, axis=1).sum().sum()\n",
    "    sd = np.sqrt(var)\n",
    "    ann_sd = sd*np.sqrt(12)\n",
    "    p_vol.append(ann_sd)"
   ]
  },
  {
   "cell_type": "code",
   "execution_count": 15,
   "metadata": {},
   "outputs": [],
   "source": [
    "data = {'Returns':p_ret, 'Volatility':p_vol}"
   ]
  },
  {
   "cell_type": "code",
   "execution_count": 16,
   "metadata": {},
   "outputs": [],
   "source": [
    "for counter, symbol in enumerate(stocks.columns.tolist()):\n",
    "    data[symbol+' weight'] = [w[counter] for w in p_weights]"
   ]
  },
  {
   "cell_type": "code",
   "execution_count": 17,
   "metadata": {},
   "outputs": [
    {
     "data": {
      "text/plain": "    Returns  Volatility  AT0000606306 weight  AT0000652011 weight  \\\n0 -0.423255    0.262419             0.001395             0.003356   \n1 -0.419377    0.263797             0.001881             0.001156   \n2 -0.417375    0.261671             0.001535             0.000640   \n3 -0.407578    0.256164             0.002022             0.000008   \n4 -0.438268    0.268191             0.003950             0.002700   \n\n   AT0000720008 weight  AT0000730007 weight  AT0000743059 weight  \\\n0             0.003636             0.002377             0.003613   \n1             0.004029             0.000206             0.001198   \n2             0.001269             0.004068             0.001151   \n3             0.002641             0.000056             0.002685   \n4             0.004161             0.001426             0.001682   \n\n   AT0000746409 weight  AT0000831706 weight  AT0000908504 weight  ...  \\\n0             0.002865             0.002572             0.000134  ...   \n1             0.003388             0.002384             0.003272  ...   \n2             0.003762             0.001260             0.003156  ...   \n3             0.000359             0.000676             0.000300  ...   \n4             0.001800             0.001877             0.003918  ...   \n\n   SE0000695876 weight  SE0000825820 weight  SE0001662230 weight  \\\n0             0.001852             0.000424             0.003081   \n1             0.001939             0.002532             0.000732   \n2             0.003295             0.004102             0.003045   \n3             0.002731             0.003207             0.002394   \n4             0.001085             0.003000             0.003338   \n\n   SE0005190238 weight  SE0007100581 weight  SE0007100599 weight  \\\n0             0.002936             0.001996             0.002287   \n1             0.000547             0.000301             0.002954   \n2             0.001415             0.000741             0.003287   \n3             0.002628             0.003172             0.001827   \n4             0.002862             0.000955             0.001343   \n\n   SE0011090018 weight  SE0011166610 weight  SE0012455673 weight  \\\n0             0.001909             0.001967             0.001266   \n1             0.002605             0.001493             0.001185   \n2             0.000572             0.001994             0.002514   \n3             0.002704             0.002666             0.001671   \n4             0.000530             0.002623             0.000555   \n\n   SE0013256682 weight  \n0             0.000851  \n1             0.002643  \n2             0.003894  \n3             0.003915  \n4             0.000260  \n\n[5 rows x 488 columns]",
      "text/html": "<div>\n<style scoped>\n    .dataframe tbody tr th:only-of-type {\n        vertical-align: middle;\n    }\n\n    .dataframe tbody tr th {\n        vertical-align: top;\n    }\n\n    .dataframe thead th {\n        text-align: right;\n    }\n</style>\n<table border=\"1\" class=\"dataframe\">\n  <thead>\n    <tr style=\"text-align: right;\">\n      <th></th>\n      <th>Returns</th>\n      <th>Volatility</th>\n      <th>AT0000606306 weight</th>\n      <th>AT0000652011 weight</th>\n      <th>AT0000720008 weight</th>\n      <th>AT0000730007 weight</th>\n      <th>AT0000743059 weight</th>\n      <th>AT0000746409 weight</th>\n      <th>AT0000831706 weight</th>\n      <th>AT0000908504 weight</th>\n      <th>...</th>\n      <th>SE0000695876 weight</th>\n      <th>SE0000825820 weight</th>\n      <th>SE0001662230 weight</th>\n      <th>SE0005190238 weight</th>\n      <th>SE0007100581 weight</th>\n      <th>SE0007100599 weight</th>\n      <th>SE0011090018 weight</th>\n      <th>SE0011166610 weight</th>\n      <th>SE0012455673 weight</th>\n      <th>SE0013256682 weight</th>\n    </tr>\n  </thead>\n  <tbody>\n    <tr>\n      <th>0</th>\n      <td>-0.423255</td>\n      <td>0.262419</td>\n      <td>0.001395</td>\n      <td>0.003356</td>\n      <td>0.003636</td>\n      <td>0.002377</td>\n      <td>0.003613</td>\n      <td>0.002865</td>\n      <td>0.002572</td>\n      <td>0.000134</td>\n      <td>...</td>\n      <td>0.001852</td>\n      <td>0.000424</td>\n      <td>0.003081</td>\n      <td>0.002936</td>\n      <td>0.001996</td>\n      <td>0.002287</td>\n      <td>0.001909</td>\n      <td>0.001967</td>\n      <td>0.001266</td>\n      <td>0.000851</td>\n    </tr>\n    <tr>\n      <th>1</th>\n      <td>-0.419377</td>\n      <td>0.263797</td>\n      <td>0.001881</td>\n      <td>0.001156</td>\n      <td>0.004029</td>\n      <td>0.000206</td>\n      <td>0.001198</td>\n      <td>0.003388</td>\n      <td>0.002384</td>\n      <td>0.003272</td>\n      <td>...</td>\n      <td>0.001939</td>\n      <td>0.002532</td>\n      <td>0.000732</td>\n      <td>0.000547</td>\n      <td>0.000301</td>\n      <td>0.002954</td>\n      <td>0.002605</td>\n      <td>0.001493</td>\n      <td>0.001185</td>\n      <td>0.002643</td>\n    </tr>\n    <tr>\n      <th>2</th>\n      <td>-0.417375</td>\n      <td>0.261671</td>\n      <td>0.001535</td>\n      <td>0.000640</td>\n      <td>0.001269</td>\n      <td>0.004068</td>\n      <td>0.001151</td>\n      <td>0.003762</td>\n      <td>0.001260</td>\n      <td>0.003156</td>\n      <td>...</td>\n      <td>0.003295</td>\n      <td>0.004102</td>\n      <td>0.003045</td>\n      <td>0.001415</td>\n      <td>0.000741</td>\n      <td>0.003287</td>\n      <td>0.000572</td>\n      <td>0.001994</td>\n      <td>0.002514</td>\n      <td>0.003894</td>\n    </tr>\n    <tr>\n      <th>3</th>\n      <td>-0.407578</td>\n      <td>0.256164</td>\n      <td>0.002022</td>\n      <td>0.000008</td>\n      <td>0.002641</td>\n      <td>0.000056</td>\n      <td>0.002685</td>\n      <td>0.000359</td>\n      <td>0.000676</td>\n      <td>0.000300</td>\n      <td>...</td>\n      <td>0.002731</td>\n      <td>0.003207</td>\n      <td>0.002394</td>\n      <td>0.002628</td>\n      <td>0.003172</td>\n      <td>0.001827</td>\n      <td>0.002704</td>\n      <td>0.002666</td>\n      <td>0.001671</td>\n      <td>0.003915</td>\n    </tr>\n    <tr>\n      <th>4</th>\n      <td>-0.438268</td>\n      <td>0.268191</td>\n      <td>0.003950</td>\n      <td>0.002700</td>\n      <td>0.004161</td>\n      <td>0.001426</td>\n      <td>0.001682</td>\n      <td>0.001800</td>\n      <td>0.001877</td>\n      <td>0.003918</td>\n      <td>...</td>\n      <td>0.001085</td>\n      <td>0.003000</td>\n      <td>0.003338</td>\n      <td>0.002862</td>\n      <td>0.000955</td>\n      <td>0.001343</td>\n      <td>0.000530</td>\n      <td>0.002623</td>\n      <td>0.000555</td>\n      <td>0.000260</td>\n    </tr>\n  </tbody>\n</table>\n<p>5 rows × 488 columns</p>\n</div>"
     },
     "execution_count": 17,
     "metadata": {},
     "output_type": "execute_result"
    }
   ],
   "source": [
    "portfolios = pd.DataFrame(data)\n",
    "portfolios.head()"
   ]
  },
  {
   "cell_type": "code",
   "execution_count": 18,
   "metadata": {},
   "outputs": [
    {
     "data": {
      "text/plain": "<matplotlib.axes._subplots.AxesSubplot at 0x7ff0a5267a30>"
     },
     "execution_count": 18,
     "metadata": {},
     "output_type": "execute_result"
    },
    {
     "data": {
      "text/plain": "<Figure size 432x288 with 1 Axes>",
      "image/png": "[encoded data removed]"
     },
     "metadata": {
      "needs_background": "light"
     },
     "output_type": "display_data"
    }
   ],
   "source": [
    "portfolios.plot.scatter(x='Volatility', y='Returns', grid=True)"
   ]
  },
  {
   "cell_type": "code",
   "execution_count": 19,
   "metadata": {},
   "outputs": [
    {
     "data": {
      "text/plain": "    Returns  Volatility  AT0000606306 weight  AT0000652011 weight  \\\n8 -0.419359    0.254885             0.001333             0.003049   \n\n   AT0000720008 weight  AT0000730007 weight  AT0000743059 weight  \\\n8             0.003276             0.003827             0.002511   \n\n   AT0000746409 weight  AT0000831706 weight  AT0000908504 weight  ...  \\\n8             0.001698             0.002776             0.003716  ...   \n\n   SE0000695876 weight  SE0000825820 weight  SE0001662230 weight  \\\n8             0.002023             0.002866              0.00232   \n\n   SE0005190238 weight  SE0007100581 weight  SE0007100599 weight  \\\n8              0.00052              0.00091             0.002207   \n\n   SE0011090018 weight  SE0011166610 weight  SE0012455673 weight  \\\n8              0.00305             0.003919             0.002237   \n\n   SE0013256682 weight  \n8             0.002802  \n\n[1 rows x 488 columns]",
      "text/html": "<div>\n<style scoped>\n    .dataframe tbody tr th:only-of-type {\n        vertical-align: middle;\n    }\n\n    .dataframe tbody tr th {\n        vertical-align: top;\n    }\n\n    .dataframe thead th {\n        text-align: right;\n    }\n</style>\n<table border=\"1\" class=\"dataframe\">\n  <thead>\n    <tr style=\"text-align: right;\">\n      <th></th>\n      <th>Returns</th>\n      <th>Volatility</th>\n      <th>AT0000606306 weight</th>\n      <th>AT0000652011 weight</th>\n      <th>AT0000720008 weight</th>\n      <th>AT0000730007 weight</th>\n      <th>AT0000743059 weight</th>\n      <th>AT0000746409 weight</th>\n      <th>AT0000831706 weight</th>\n      <th>AT0000908504 weight</th>\n      <th>...</th>\n      <th>SE0000695876 weight</th>\n      <th>SE0000825820 weight</th>\n      <th>SE0001662230 weight</th>\n      <th>SE0005190238 weight</th>\n      <th>SE0007100581 weight</th>\n      <th>SE0007100599 weight</th>\n      <th>SE0011090018 weight</th>\n      <th>SE0011166610 weight</th>\n      <th>SE0012455673 weight</th>\n      <th>SE0013256682 weight</th>\n    </tr>\n  </thead>\n  <tbody>\n    <tr>\n      <th>8</th>\n      <td>-0.419359</td>\n      <td>0.254885</td>\n      <td>0.001333</td>\n      <td>0.003049</td>\n      <td>0.003276</td>\n      <td>0.003827</td>\n      <td>0.002511</td>\n      <td>0.001698</td>\n      <td>0.002776</td>\n      <td>0.003716</td>\n      <td>...</td>\n      <td>0.002023</td>\n      <td>0.002866</td>\n      <td>0.00232</td>\n      <td>0.00052</td>\n      <td>0.00091</td>\n      <td>0.002207</td>\n      <td>0.00305</td>\n      <td>0.003919</td>\n      <td>0.002237</td>\n      <td>0.002802</td>\n    </tr>\n  </tbody>\n</table>\n<p>1 rows × 488 columns</p>\n</div>"
     },
     "execution_count": 19,
     "metadata": {},
     "output_type": "execute_result"
    }
   ],
   "source": [
    "#minimum variance portfolio\n",
    "portfolios[portfolios['Volatility']==portfolios['Volatility'].min()]"
   ]
  },
  {
   "cell_type": "code",
   "execution_count": 20,
   "metadata": {},
   "outputs": [
    {
     "data": {
      "text/plain": "Returns               -0.419359\nVolatility             0.254885\nAT0000606306 weight    0.001333\nAT0000652011 weight    0.003049\nAT0000720008 weight    0.003276\n                         ...   \nSE0007100599 weight    0.002207\nSE0011090018 weight    0.003050\nSE0011166610 weight    0.003919\nSE0012455673 weight    0.002237\nSE0013256682 weight    0.002802\nName: 8, Length: 488, dtype: float64"
     },
     "execution_count": 20,
     "metadata": {},
     "output_type": "execute_result"
    }
   ],
   "source": [
    "#minimum variance portfolio\n",
    "min_var_port = portfolios.iloc[portfolios['Volatility'].idxmin()]\n",
    "min_var_port"
   ]
  },
  {
   "cell_type": "code",
   "execution_count": 21,
   "metadata": {},
   "outputs": [
    {
     "data": {
      "text/plain": "<matplotlib.collections.PathCollection at 0x7ff0a29c01f0>"
     },
     "execution_count": 21,
     "metadata": {},
     "output_type": "execute_result"
    },
    {
     "data": {
      "text/plain": "<Figure size 1440x720 with 1 Axes>",
      "image/png": "[encoded data removed]"
     },
     "metadata": {
      "needs_background": "light"
     },
     "output_type": "display_data"
    }
   ],
   "source": [
    "import matplotlib.pyplot as plt\n",
    "plt.subplots(figsize=(20,10))\n",
    "plt.scatter(portfolios['Volatility'], portfolios['Returns'])\n",
    "plt.scatter(min_var_port[1], min_var_port[0], color='y')"
   ]
  },
  {
   "cell_type": "code",
   "execution_count": 22,
   "metadata": {},
   "outputs": [],
   "source": [
    "# assumption rf = 0.025\n",
    "rf = 0.025"
   ]
  },
  {
   "cell_type": "markdown",
   "metadata": {},
   "source": [
    "Sharpe ratio"
   ]
  },
  {
   "cell_type": "code",
   "execution_count": 23,
   "metadata": {},
   "outputs": [
    {
     "data": {
      "text/plain": "9"
     },
     "execution_count": 23,
     "metadata": {},
     "output_type": "execute_result"
    }
   ],
   "source": [
    "sharpe_ratio = ((portfolios['Returns']-rf)/portfolios['Volatility']).idxmax()\n",
    "sharpe_ratio"
   ]
  },
  {
   "cell_type": "markdown",
   "metadata": {},
   "source": [
    "Sortino ratio"
   ]
  },
  {
   "cell_type": "code",
   "execution_count": 26,
   "metadata": {},
   "outputs": [
    {
     "data": {
      "text/plain": "0.1711378550767097"
     },
     "execution_count": 26,
     "metadata": {},
     "output_type": "execute_result"
    }
   ],
   "source": [
    "def lpm(returns, threshold, order):\n",
    "    # This method returns a lower partial moment of the returns\n",
    "    # Create an array he same length as returns containing the minimum return threshold\n",
    "    threshold_array = np.empty(len(returns))\n",
    "    threshold_array.fill(threshold)\n",
    "    # Calculate the difference between the threshold and the returns\n",
    "    diff = threshold_array - returns_p\n",
    "    # Set the minimum of each to 0\n",
    "    diff = diff.clip(min=0)\n",
    "    # Return the sum of the different to the power of order\n",
    "    return np.sum(diff ** order) / len(returns)\n",
    "\n",
    "\n",
    "\n",
    "lpm(p_ret,0, 2)"
   ]
  },
  {
   "cell_type": "code",
   "execution_count": 32,
   "outputs": [
    {
     "name": "stdout",
     "output_type": "stream",
     "text": [
      "-1.0859125850194862\n"
     ]
    }
   ],
   "source": [
    "def sortino_ratio(er, p_ret, rf, target=0):\n",
    "    return (er - rf) / math.sqrt(lpm(p_ret, target, 2))\n",
    "\n",
    "sortino_ratio = sortino_ratio(e_r, p_ret, rf, target=0)\n",
    "print(sortino_ratio.mean())\n",
    "# # Create a downside return column with the negative returns only\n",
    "# downside_returns = df.loc[df['pf_returns'] ____ target]\n",
    "\n",
    "# # Calculate expected return and std dev of downside\n",
    "# expected_return = df['____'].____()\n",
    "# down_stdev = downside_returns['pf_returns'].____()\n",
    "\n",
    "# # Calculate the sortino ratio\n",
    "# sortino_ratio = (____ - ____)/____\n",
    "\n",
    "# # Print the results\n",
    "# print(\"Expected return  : \", expected_return*100)\n",
    "# print(\"Downside risk   : \", down_stdev*100)\n",
    "# print(\"Sortino ratio : \", sortino_ratio)\n",
    "\n"
   ],
   "metadata": {
    "collapsed": false,
    "pycharm": {
     "name": "#%%\n"
    }
   }
  },
  {
   "cell_type": "markdown",
   "metadata": {},
   "source": [
    "Other measures"
   ]
  },
  {
   "cell_type": "code",
   "execution_count": null,
   "metadata": {},
   "outputs": [],
   "source": [
    "def treynor_ratio(er, returns, market, rf):\n",
    "    return (er - rf) / beta(returns, market)\n",
    " \n",
    " \n",
    "def sharpe_ratio(er, returns, rf):\n",
    "    return (er - rf) / vol(returns)\n",
    " \n",
    " \n",
    "def information_ratio(returns, benchmark):\n",
    "    diff = returns - benchmark\n",
    "    return numpy.mean(diff) / vol(diff)\n",
    " \n",
    " \n",
    "def modigliani_ratio(er, returns, benchmark, rf):\n",
    "    np_rf = numpy.empty(len(returns))\n",
    "    np_rf.fill(rf)\n",
    "    rdiff = returns - np_rf\n",
    "    bdiff = benchmark - np_rf\n",
    "    return (er - rf) * (vol(rdiff) / vol(bdiff)) + rf"
   ]
  }
 ],
 "metadata": {
  "kernelspec": {
   "display_name": "Python 3",
   "language": "python",
   "name": "python3"
  },
  "language_info": {
   "codemirror_mode": {
    "name": "ipython",
    "version": 3
   },
   "file_extension": ".py",
   "mimetype": "text/x-python",
   "name": "python",
   "nbconvert_exporter": "python",
   "pygments_lexer": "ipython3",
   "version": "3.7.4"
  }
 },
 "nbformat": 4,
 "nbformat_minor": 2
}