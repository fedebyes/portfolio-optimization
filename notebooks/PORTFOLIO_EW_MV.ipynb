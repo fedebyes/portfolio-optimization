{
 "cells": [
  {
   "cell_type": "markdown",
   "metadata": {},
   "source": [
    "EQUALLY WEIGTED"
   ]
  },
  {
   "cell_type": "code",
   "execution_count": null,
   "metadata": {},
   "outputs": [],
   "source": [
    "# import data\n"
   ]
  },
  {
   "cell_type": "code",
   "execution_count": null,
   "metadata": {},
   "outputs": [],
   "source": [
    "# IMPORT isin "
   ]
  },
  {
   "cell_type": "code",
   "execution_count": null,
   "metadata": {},
   "outputs": [],
   "source": [
    "# import returns \n"
   ]
  },
  {
   "cell_type": "code",
   "execution_count": null,
   "metadata": {},
   "outputs": [],
   "source": [
    "weights = np.array([1/input_df.columns.shape[0] for _ in range(input_df.columns.shape[0])])\n",
    "\n",
    "def calc_eq_sharpe(self, weights, mean_returns, cov, rf, weeks):\n",
    "        portfolio_return = np.sum(mean_returns * weights) * weeks    \n",
    "        portfolio_std = np.sqrt(np.dot(weights.T, np.dot(cov, weights))) * np.sqrt(weeks)\n",
    "        sharpe_ratio = (portfolio_return - rf) / portfolio_std\n",
    "        return portfolio_return, portfolio_std, sharpe_ratio, weights"
   ]
  },
  {
   "cell_type": "code",
   "execution_count": null,
   "metadata": {},
   "outputs": [],
   "source": [
    "# How many stocks are in your portfolio?\n",
    "numstocks2008 = \n",
    "\n",
    "# Create an array of equal weights across all assets\n",
    "portfolio_weights_ew = [(1/len(numstocks2008)), (1/numstocks2008), (1/numstocks2008),....]\n",
    "\n",
    "# Calculate the equally-weighted portfolio returns\n",
    "StockReturns['Portfolio_EW'] = StockReturns.iloc[____, ____].mul(portfolio_weights_ew, axis=1).sum(axis=1)\n",
    "cumulative_returns_plot(['Portfolio', 'Portfolio_EW'])"
   ]
  },
  {
   "cell_type": "code",
   "execution_count": null,
   "metadata": {},
   "outputs": [],
   "source": [
    "# calculate transaction costs\n",
    "# assumption -0.5%\n",
    "\n"
   ]
  },
  {
   "cell_type": "code",
   "execution_count": null,
   "metadata": {},
   "outputs": [],
   "source": [
    "import numpy as np\n",
    "import pandas as pd"
   ]
  },
  {
   "cell_type": "markdown",
   "metadata": {},
   "source": [
    "MINIMUM VARIANCE"
   ]
  },
  {
   "cell_type": "code",
   "execution_count": null,
   "metadata": {},
   "outputs": [],
   "source": [
    "# convert prices into dataframe \n",
    "df = prices.pivot(index='date', columns='ticker', values='close').pct_change().apply(lambda x: np.log(1+x))"
   ]
  },
  {
   "cell_type": "code",
   "execution_count": null,
   "metadata": {},
   "outputs": [],
   "source": [
    "# Variance\n",
    "var_tsla = df['TSLA'].var()\n",
    "var_tsla\n",
    "# std dev\n",
    "sd_tsla = df['TSLA'].std()\n",
    "sd_tsla\n",
    "# correlation\n",
    "df['TSLA'].corr(df['XOM'])"
   ]
  },
  {
   "cell_type": "code",
   "execution_count": null,
   "metadata": {},
   "outputs": [],
   "source": [
    "# covariance matrix\n",
    "\n",
    "df.cov()\n",
    "\n",
    "# covariance matrix using PCA\n",
    "\n",
    "\n",
    "# correlation matrix\n",
    "\n",
    "\n",
    "df.corr()\n",
    "\n",
    "# correlation plot\n",
    "\n",
    "df.corr()['AAPL'].plot(kind='bar')"
   ]
  }
 ],
 "metadata": {
  "kernelspec": {
   "display_name": "Python 3",
   "language": "python",
   "name": "python3"
  },
  "language_info": {
   "codemirror_mode": {
    "name": "ipython",
    "version": 3
   },
   "file_extension": ".py",
   "mimetype": "text/x-python",
   "name": "python",
   "nbconvert_exporter": "python",
   "pygments_lexer": "ipython3",
   "version": "3.7.4"
  }
 },
 "nbformat": 4,
 "nbformat_minor": 2
}