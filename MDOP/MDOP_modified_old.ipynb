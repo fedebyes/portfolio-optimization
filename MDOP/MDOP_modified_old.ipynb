{
 "cells": [
  {
   "cell_type": "code",
   "execution_count": 8,
   "metadata": {},
   "outputs": [],
   "source": [
    "import pandas as pd \n",
    "import numpy as np \n",
    "import matplotlib.pyplot as plt\n",
    "import math\n",
    "import numpy.random as nrand\n",
    "import numpy as np"
   ]
  },
  {
   "cell_type": "code",
   "execution_count": 3,
   "metadata": {},
   "outputs": [
    {
     "data": {
      "text/plain": "            AT0000606306  AT0000652011  AT0000730007  AT0000743059  \\\nDate                                                                 \n2008-01-31     -0.183880     -0.253608     -0.203619     -0.133887   \n2008-02-29      0.010053      0.063536      0.131475     -0.002083   \n2008-03-31      0.011124      0.066234     -0.069076     -0.126096   \n2008-04-30      0.205559      0.161998      0.099223      0.157430   \n2008-05-30     -0.074448      0.028721      0.137886      0.092260   \n...                  ...           ...           ...           ...   \n2018-08-31     -0.141255     -0.072781      0.051113     -0.056452   \n2018-09-28      0.012245      0.044062     -0.014706      0.060486   \n2018-10-31     -0.028226      0.006149     -0.089353      0.015292   \n2018-11-30      0.080498     -0.031944     -0.070804     -0.091797   \n2018-12-28     -0.147465     -0.166428     -0.056444     -0.142761   \n\n            AT0000937503  BE0003470755  BE0003565737  BE0003739530  \\\nDate                                                                 \n2008-01-31     -0.171284     -0.122362     -0.116528      0.047228   \n2008-02-29      0.020010     -0.008811     -0.019414     -0.034631   \n2008-03-31      0.052632     -0.029189     -0.014399     -0.298295   \n2008-04-30      0.119318      0.168275      0.060872      0.263804   \n2008-05-30      0.087716     -0.024041     -0.089571     -0.068141   \n...                  ...           ...           ...           ...   \n2018-08-31     -0.098670     -0.022175     -0.075346      0.072148   \n2018-09-28      0.019669      0.007414      0.047386     -0.017268   \n2018-10-31     -0.203300     -0.128571     -0.049922     -0.041602   \n2018-11-30     -0.064989     -0.050969      0.041051      0.000809   \n2018-12-28     -0.110733     -0.085846     -0.105994     -0.039601   \n\n            BE0003764785  BE0003797140  ...  SE0000667891  SE0000667925  \\\nDate                                    ...                               \n2008-01-31     -0.018507     -0.117332  ...     -0.184205     -0.076850   \n2008-02-29      0.032086      0.025142  ...      0.172743     -0.107659   \n2008-03-31     -0.030499     -0.027921  ...     -0.024428     -0.037473   \n2008-04-30     -0.003192      0.056023  ...     -0.100364      0.129343   \n2008-05-30      0.073639      0.049620  ...      0.116511      0.018673   \n...                  ...           ...  ...           ...           ...   \n2018-08-31     -0.015385     -0.005282  ...     -0.037693     -0.072665   \n2018-09-28     -0.024089     -0.001106  ...      0.014332      0.035718   \n2018-10-31     -0.072048     -0.089923  ...     -0.083789      0.008213   \n2018-11-30      0.020129     -0.032611  ...     -0.063710      0.022731   \n2018-12-28     -0.071177     -0.043019  ...     -0.048401      0.016504   \n\n            SE0000695876  SE0001662230  SE0005190238  SE0007100581  \\\nDate                                                                 \n2008-01-31     -0.072536     -0.161022     -0.004594     -0.154478   \n2008-02-29      0.002595      0.062480     -0.145357      0.027653   \n2008-03-31      0.072596      0.053832      0.023241     -0.038850   \n2008-04-30      0.098954     -0.131823      0.198826     -0.126255   \n2008-05-30      0.025919     -0.003117     -0.037107      0.112279   \n...                  ...           ...           ...           ...   \n2018-08-31     -0.019279      0.010107     -0.076003      0.033958   \n2018-09-28      0.011906      0.075969     -0.023286     -0.013667   \n2018-10-31     -0.032752     -0.092961     -0.031759      0.018958   \n2018-11-30     -0.158026      0.041121      0.500894     -0.068287   \n2018-12-28     -0.015189     -0.068151      0.008822     -0.049655   \n\n            SE0007100599  SE0011166610  SE0012455673  SE0013256682  \nDate                                                                \n2008-01-31     -0.144787     -0.067505     -0.297265     -0.144031  \n2008-02-29     -0.010921      0.087657      0.254511     -0.024028  \n2008-03-31     -0.006256      0.044358     -0.111978     -0.066052  \n2008-04-30     -0.030981     -0.041582      0.038749      0.135150  \n2008-05-30     -0.004670      0.098514      0.038296      0.001202  \n...                  ...           ...           ...           ...  \n2018-08-31     -0.013533      0.005314     -0.116306     -0.043462  \n2018-09-28      0.041915      0.010747      0.065661     -0.076864  \n2018-10-31     -0.115116     -0.117781     -0.158454     -0.059129  \n2018-11-30      0.012499     -0.011512     -0.020275     -0.085201  \n2018-12-28     -0.003210     -0.042028     -0.042693     -0.062982  \n\n[132 rows x 323 columns]",
      "text/html": "<div>\n<style scoped>\n    .dataframe tbody tr th:only-of-type {\n        vertical-align: middle;\n    }\n\n    .dataframe tbody tr th {\n        vertical-align: top;\n    }\n\n    .dataframe thead th {\n        text-align: right;\n    }\n</style>\n<table border=\"1\" class=\"dataframe\">\n  <thead>\n    <tr style=\"text-align: right;\">\n      <th></th>\n      <th>AT0000606306</th>\n      <th>AT0000652011</th>\n      <th>AT0000730007</th>\n      <th>AT0000743059</th>\n      <th>AT0000937503</th>\n      <th>BE0003470755</th>\n      <th>BE0003565737</th>\n      <th>BE0003739530</th>\n      <th>BE0003764785</th>\n      <th>BE0003797140</th>\n      <th>...</th>\n      <th>SE0000667891</th>\n      <th>SE0000667925</th>\n      <th>SE0000695876</th>\n      <th>SE0001662230</th>\n      <th>SE0005190238</th>\n      <th>SE0007100581</th>\n      <th>SE0007100599</th>\n      <th>SE0011166610</th>\n      <th>SE0012455673</th>\n      <th>SE0013256682</th>\n    </tr>\n    <tr>\n      <th>Date</th>\n      <th></th>\n      <th></th>\n      <th></th>\n      <th></th>\n      <th></th>\n      <th></th>\n      <th></th>\n      <th></th>\n      <th></th>\n      <th></th>\n      <th></th>\n      <th></th>\n      <th></th>\n      <th></th>\n      <th></th>\n      <th></th>\n      <th></th>\n      <th></th>\n      <th></th>\n      <th></th>\n      <th></th>\n    </tr>\n  </thead>\n  <tbody>\n    <tr>\n      <th>2008-01-31</th>\n      <td>-0.183880</td>\n      <td>-0.253608</td>\n      <td>-0.203619</td>\n      <td>-0.133887</td>\n      <td>-0.171284</td>\n      <td>-0.122362</td>\n      <td>-0.116528</td>\n      <td>0.047228</td>\n      <td>-0.018507</td>\n      <td>-0.117332</td>\n      <td>...</td>\n      <td>-0.184205</td>\n      <td>-0.076850</td>\n      <td>-0.072536</td>\n      <td>-0.161022</td>\n      <td>-0.004594</td>\n      <td>-0.154478</td>\n      <td>-0.144787</td>\n      <td>-0.067505</td>\n      <td>-0.297265</td>\n      <td>-0.144031</td>\n    </tr>\n    <tr>\n      <th>2008-02-29</th>\n      <td>0.010053</td>\n      <td>0.063536</td>\n      <td>0.131475</td>\n      <td>-0.002083</td>\n      <td>0.020010</td>\n      <td>-0.008811</td>\n      <td>-0.019414</td>\n      <td>-0.034631</td>\n      <td>0.032086</td>\n      <td>0.025142</td>\n      <td>...</td>\n      <td>0.172743</td>\n      <td>-0.107659</td>\n      <td>0.002595</td>\n      <td>0.062480</td>\n      <td>-0.145357</td>\n      <td>0.027653</td>\n      <td>-0.010921</td>\n      <td>0.087657</td>\n      <td>0.254511</td>\n      <td>-0.024028</td>\n    </tr>\n    <tr>\n      <th>2008-03-31</th>\n      <td>0.011124</td>\n      <td>0.066234</td>\n      <td>-0.069076</td>\n      <td>-0.126096</td>\n      <td>0.052632</td>\n      <td>-0.029189</td>\n      <td>-0.014399</td>\n      <td>-0.298295</td>\n      <td>-0.030499</td>\n      <td>-0.027921</td>\n      <td>...</td>\n      <td>-0.024428</td>\n      <td>-0.037473</td>\n      <td>0.072596</td>\n      <td>0.053832</td>\n      <td>0.023241</td>\n      <td>-0.038850</td>\n      <td>-0.006256</td>\n      <td>0.044358</td>\n      <td>-0.111978</td>\n      <td>-0.066052</td>\n    </tr>\n    <tr>\n      <th>2008-04-30</th>\n      <td>0.205559</td>\n      <td>0.161998</td>\n      <td>0.099223</td>\n      <td>0.157430</td>\n      <td>0.119318</td>\n      <td>0.168275</td>\n      <td>0.060872</td>\n      <td>0.263804</td>\n      <td>-0.003192</td>\n      <td>0.056023</td>\n      <td>...</td>\n      <td>-0.100364</td>\n      <td>0.129343</td>\n      <td>0.098954</td>\n      <td>-0.131823</td>\n      <td>0.198826</td>\n      <td>-0.126255</td>\n      <td>-0.030981</td>\n      <td>-0.041582</td>\n      <td>0.038749</td>\n      <td>0.135150</td>\n    </tr>\n    <tr>\n      <th>2008-05-30</th>\n      <td>-0.074448</td>\n      <td>0.028721</td>\n      <td>0.137886</td>\n      <td>0.092260</td>\n      <td>0.087716</td>\n      <td>-0.024041</td>\n      <td>-0.089571</td>\n      <td>-0.068141</td>\n      <td>0.073639</td>\n      <td>0.049620</td>\n      <td>...</td>\n      <td>0.116511</td>\n      <td>0.018673</td>\n      <td>0.025919</td>\n      <td>-0.003117</td>\n      <td>-0.037107</td>\n      <td>0.112279</td>\n      <td>-0.004670</td>\n      <td>0.098514</td>\n      <td>0.038296</td>\n      <td>0.001202</td>\n    </tr>\n    <tr>\n      <th>...</th>\n      <td>...</td>\n      <td>...</td>\n      <td>...</td>\n      <td>...</td>\n      <td>...</td>\n      <td>...</td>\n      <td>...</td>\n      <td>...</td>\n      <td>...</td>\n      <td>...</td>\n      <td>...</td>\n      <td>...</td>\n      <td>...</td>\n      <td>...</td>\n      <td>...</td>\n      <td>...</td>\n      <td>...</td>\n      <td>...</td>\n      <td>...</td>\n      <td>...</td>\n      <td>...</td>\n    </tr>\n    <tr>\n      <th>2018-08-31</th>\n      <td>-0.141255</td>\n      <td>-0.072781</td>\n      <td>0.051113</td>\n      <td>-0.056452</td>\n      <td>-0.098670</td>\n      <td>-0.022175</td>\n      <td>-0.075346</td>\n      <td>0.072148</td>\n      <td>-0.015385</td>\n      <td>-0.005282</td>\n      <td>...</td>\n      <td>-0.037693</td>\n      <td>-0.072665</td>\n      <td>-0.019279</td>\n      <td>0.010107</td>\n      <td>-0.076003</td>\n      <td>0.033958</td>\n      <td>-0.013533</td>\n      <td>0.005314</td>\n      <td>-0.116306</td>\n      <td>-0.043462</td>\n    </tr>\n    <tr>\n      <th>2018-09-28</th>\n      <td>0.012245</td>\n      <td>0.044062</td>\n      <td>-0.014706</td>\n      <td>0.060486</td>\n      <td>0.019669</td>\n      <td>0.007414</td>\n      <td>0.047386</td>\n      <td>-0.017268</td>\n      <td>-0.024089</td>\n      <td>-0.001106</td>\n      <td>...</td>\n      <td>0.014332</td>\n      <td>0.035718</td>\n      <td>0.011906</td>\n      <td>0.075969</td>\n      <td>-0.023286</td>\n      <td>-0.013667</td>\n      <td>0.041915</td>\n      <td>0.010747</td>\n      <td>0.065661</td>\n      <td>-0.076864</td>\n    </tr>\n    <tr>\n      <th>2018-10-31</th>\n      <td>-0.028226</td>\n      <td>0.006149</td>\n      <td>-0.089353</td>\n      <td>0.015292</td>\n      <td>-0.203300</td>\n      <td>-0.128571</td>\n      <td>-0.049922</td>\n      <td>-0.041602</td>\n      <td>-0.072048</td>\n      <td>-0.089923</td>\n      <td>...</td>\n      <td>-0.083789</td>\n      <td>0.008213</td>\n      <td>-0.032752</td>\n      <td>-0.092961</td>\n      <td>-0.031759</td>\n      <td>0.018958</td>\n      <td>-0.115116</td>\n      <td>-0.117781</td>\n      <td>-0.158454</td>\n      <td>-0.059129</td>\n    </tr>\n    <tr>\n      <th>2018-11-30</th>\n      <td>0.080498</td>\n      <td>-0.031944</td>\n      <td>-0.070804</td>\n      <td>-0.091797</td>\n      <td>-0.064989</td>\n      <td>-0.050969</td>\n      <td>0.041051</td>\n      <td>0.000809</td>\n      <td>0.020129</td>\n      <td>-0.032611</td>\n      <td>...</td>\n      <td>-0.063710</td>\n      <td>0.022731</td>\n      <td>-0.158026</td>\n      <td>0.041121</td>\n      <td>0.500894</td>\n      <td>-0.068287</td>\n      <td>0.012499</td>\n      <td>-0.011512</td>\n      <td>-0.020275</td>\n      <td>-0.085201</td>\n    </tr>\n    <tr>\n      <th>2018-12-28</th>\n      <td>-0.147465</td>\n      <td>-0.166428</td>\n      <td>-0.056444</td>\n      <td>-0.142761</td>\n      <td>-0.110733</td>\n      <td>-0.085846</td>\n      <td>-0.105994</td>\n      <td>-0.039601</td>\n      <td>-0.071177</td>\n      <td>-0.043019</td>\n      <td>...</td>\n      <td>-0.048401</td>\n      <td>0.016504</td>\n      <td>-0.015189</td>\n      <td>-0.068151</td>\n      <td>0.008822</td>\n      <td>-0.049655</td>\n      <td>-0.003210</td>\n      <td>-0.042028</td>\n      <td>-0.042693</td>\n      <td>-0.062982</td>\n    </tr>\n  </tbody>\n</table>\n<p>132 rows × 323 columns</p>\n</div>"
     },
     "execution_count": 3,
     "metadata": {},
     "output_type": "execute_result"
    }
   ],
   "source": [
    "stocks_prices = pd.read_csv('../data/DEFINITIVE/prices_from2008_csv.csv', parse_dates =[\"Date\"], index_col=\"Date\")\n",
    "stocks_mc = pd.read_csv('../data/DEFINITIVE/MC_from2008_csv.csv', parse_dates =[\"Date\"], index_col=\"Date\")\n",
    "stocks_pb = pd.read_csv('../data/DEFINITIVE/PTB_from2008_csv.csv', parse_dates =[\"Date\"], index_col=\"Date\")\n",
    "stocks_s_c = pd.read_csv('../data/DEFINITIVE/categories_csv.csv', index_col=\"sector_country\")\n",
    "returns = stocks_prices.pct_change().dropna()\n",
    "returns\n",
    "# returns.iloc[0:60]\n",
    "# print(returns.head())\n",
    "# var = returns.iloc[0:60].var()\n",
    "# std = returns.iloc[0:60].std()\n",
    "# cov_matrix = returns.iloc[0:60].cov()\n",
    "# print(var)\n",
    "# print(std)\n",
    "# cov_matrix\n",
    "# # print(type(cov_matrix))\n",
    "# corr_matrix = returns.iloc[0:60].corr()\n",
    "# e_r = stocks_prices.iloc[0:60].resample('Y').last().pct_change().mean()\n",
    "# sd = stocks_prices.iloc[0:60].pct_change().apply(lambda x: np.log(1+x)).std().apply(lambda x: x*np.sqrt(12))"
   ]
  },
  {
   "cell_type": "markdown",
   "metadata": {},
   "source": [
    "# Process to follow\n",
    "1.  I calculate the volatility of the returns.\n",
    "\n",
    "2.  I classify stocks within dimensions and categories.\n",
    "\n",
    "3.    For each category, I calculate the sum of (stock volatility/ number of stocks in the category). And then I use this number as Pij.\n",
    "\n",
    "For example, in dimension Sectors and category Energy, there are 11 stocks. Then I calculate ∑(stock volatility / 11) = Pij"
   ]
  },
  {
   "cell_type": "code",
   "execution_count": 4,
   "metadata": {},
   "outputs": [],
   "source": [
    "#calculate vol stocks in a certain period.\n",
    "volatility =  returns.rolling(window=60).std() * np.sqrt(12)\n",
    "stock_vol = volatility.dropna()"
   ]
  },
  {
   "cell_type": "code",
   "execution_count": 5,
   "metadata": {},
   "outputs": [],
   "source": [
    "stocks_s_c = pd.read_csv('../data/DEFINITIVE/categories_csv.csv', index_col=\"sector_country\")\n",
    "#categories\n",
    "#this is a list containing different sectors and countries\n",
    "#I want to divide the list in different sectors\n",
    "#I want to divide the list in different countries\n",
    "#stocks = stocks_s_c.columns\n",
    "stocks_s_c = stocks_s_c.transpose()\n",
    "#stocks_s_c[stocks_s_c[\"Country \"]== \"Austria\"]\n",
    "\n",
    "# Create dictionary of stocks by country\n",
    "countries = stocks_s_c[\"Country \"].unique()\n",
    "stocks_by_country = {}\n",
    "for country in countries:\n",
    "    stocks_by_country[country] = stocks_s_c[stocks_s_c[\"Country \"]== country].index.values.tolist()\n",
    "\n",
    "# Create dictionary of stocks by sector\n",
    "sectors = stocks_s_c[\"Sector name \"].unique()\n",
    "stocks_by_sector = {}\n",
    "for sector in sectors:\n",
    "    stocks_by_sector[sector] = stocks_s_c[stocks_s_c[\"Sector name \"]== sector].index.values.tolist()"
   ]
  },
  {
   "cell_type": "code",
   "execution_count": 6,
   "metadata": {},
   "outputs": [
    {
     "data": {
      "text/plain": "{'Financials': ['AT0000606306',\n  'AT0000652011',\n  'BE0003565737',\n  'BE0003764785',\n  'BE0003797140',\n  'BE0974264930',\n  'CH0011075394',\n  'CH0012138530',\n  'CH0012410517',\n  'CH0014852781',\n  'CH0021783391',\n  'DE0005140008',\n  'DE0008402215',\n  'DE0008404005',\n  'DE0008430026',\n  'DE000CBK1001',\n  'DK0010274414',\n  'DK0010307958',\n  'DK0010311471',\n  'ES0113211835',\n  'ES0113860A34',\n  'ES0113900J37',\n  'ES0115056139',\n  'ES0124244E34',\n  'FI0009003305',\n  'FI4000297767',\n  'FR0000045072',\n  'FR0000120222',\n  'FR0000120628',\n  'FR0000120685',\n  'FR0000121121',\n  'FR0000121204',\n  'FR0000130809',\n  'FR0000131104',\n  'FR0010411983',\n  'GB0002162385',\n  'GB0002405495',\n  'GB0004082847',\n  'GB0005405286',\n  'GB0005603997',\n  'GB0007099541',\n  'GB0007668071',\n  'GB0008706128',\n  'GB0031348658',\n  'GB00B02J6398',\n  'GB00B06QFB75',\n  'GB00B17BBQ50',\n  'GB00B1YW4409',\n  'GB00B7T77214',\n  'GB00BF8Q6K64',\n  'GB00BKKMKR23',\n  'IT0000062072',\n  'IT0000062957',\n  'IT0000072618',\n  'IT0003487029',\n  'IT0005218380',\n  'IT0005239360',\n  'NL0000303709',\n  'NL0011821202',\n  'NO0010031479',\n  'SE0000107419',\n  'SE0000148884',\n  'SE0000190126',\n  'SE0000242455',\n  'SE0007100599',\n  'SE0013256682'],\n 'Industrials': ['AT0000730007',\n  'CH0002497458',\n  'CH0012138605',\n  'CH0012221716',\n  'CH0024638196',\n  'CH0025238863',\n  'CH0030170408',\n  'DE0005552004',\n  'DE0005773303',\n  'DE0005937007',\n  'DE0006602006',\n  'DE0007030009',\n  'DE0007236101',\n  'DE0008232125',\n  'DE000A0D9PT0',\n  'DK0010244508',\n  'DK0060079531',\n  'ES0118900010',\n  'ES0167050915',\n  'ES0177542018',\n  'FI0009003727',\n  'FI0009007835',\n  'FI0009013403',\n  'FR0000073272',\n  'FR0000120503',\n  'FR0000121329',\n  'FR0000121972',\n  'FR0000125007',\n  'FR0000125486',\n  'FR0000130452',\n  'FR0010220475',\n  'FR0010307819',\n  'FR0010340141',\n  'GB0000961622',\n  'GB0002634946',\n  'GB0004161021',\n  'GB0005758098',\n  'GB0007739609',\n  'GB0009465807',\n  'GB0009697037',\n  'GB0031638363',\n  'GB00B01FLG62',\n  'GB00B0744B38',\n  'GB00B19NLV48',\n  'GB00B1WY2338',\n  'GB00B2B0DG97',\n  'GB00BGLP8L22',\n  'GB00BK1PTB77',\n  'IE0002424939',\n  'IE00BYTBXV33',\n  'IT0003506190',\n  'IT0003856405',\n  'JE00BJVNSS43',\n  'NL0000235190',\n  'NL0000379121',\n  'NL0000395903',\n  'NL0000852580',\n  'SE0000108227',\n  'SE0000113250',\n  'SE0000115446',\n  'SE0000163594',\n  'SE0000667891',\n  'SE0000695876',\n  'SE0007100581',\n  'SE0011166610'],\n 'Energy': ['AT0000743059',\n  'ES0173516115',\n  'FI0009013296',\n  'FR0000120271',\n  'GB0001500809',\n  'GB0007980591',\n  'GB00B03MLX29',\n  'GB00B5N0P849',\n  'IT0003132476',\n  'IT0005252140',\n  'LU0075646355',\n  'LU0156801721',\n  'NL0000360618',\n  'NL0009432491',\n  'NO0010096985',\n  'PTGAL0AM0009'],\n 'Materials': ['AT0000937503',\n  'BE0003470755',\n  'BE0974320526',\n  'CH0010645932',\n  'CH0012142631',\n  'CH0012214059',\n  'CH0418792922',\n  'DE0005470405',\n  'DE0007500001',\n  'DE000BASF111',\n  'DE000KSAG888',\n  'DE000SYM9999',\n  'DK0060336014',\n  'FI0009005961',\n  'FI0009005987',\n  'FR0000120073',\n  'FR0000120859',\n  'FR0010313833',\n  'GB0000456144',\n  'GB0007188757',\n  'GB00B01C3S32',\n  'GB00B1XZS820',\n  'GB00BH0P3Z91',\n  'GB00BZ4BQC70',\n  'IE0001827041',\n  'LU1598757687',\n  'NL0000009827',\n  'NL0013267909',\n  'NO0005052605',\n  'NO0010208051',\n  'SE0000112724',\n  'SE0012455673'],\n 'Health Care': ['BE0003739530',\n  'CH0012005267',\n  'CH0012032048',\n  'CH0012549785',\n  'CH0013841017',\n  'DE0005785802',\n  'DE0006599905',\n  'DE000BAY0017',\n  'DK0060448595',\n  'DK0060534915',\n  'DK0060738599',\n  'ES0171996087',\n  'FR0000120578',\n  'GB0009223206',\n  'GB0009895292',\n  'NL0000009538',\n  'NL0012169213',\n  'SE0000202624'],\n 'Communication Services': ['BE0003810273',\n  'CH0008742519',\n  'DE0005089031',\n  'DE0005557508',\n  'ES0178430E18',\n  'FI0009007884',\n  'FR0000077919',\n  'FR0000127771',\n  'FR0000130213',\n  'FR0000130577',\n  'FR0000133308',\n  'FR0010221234',\n  'GB0006776081',\n  'GB0033986497',\n  'GB00BH4HKS39',\n  'GB00BMJ6DW54',\n  'IT0003497168',\n  'JE00B8KF9B49',\n  'LU0088087324',\n  'NL0000009082',\n  'NO0010063308',\n  'SE0000667925',\n  'SE0005190238'],\n 'Consumer Staples': ['BE0974256852',\n  'BE0974293251',\n  'CH0010570759',\n  'CH0038863350',\n  'DE0005200000',\n  'DE0006048432',\n  'DK0010181759',\n  'FI0009000202',\n  'FR0000120172',\n  'FR0000120321',\n  'FR0000120644',\n  'FR0000120693',\n  'FR0000125585',\n  'GB0002374006',\n  'GB0002875804',\n  'GB0004544929',\n  'GB0006043169',\n  'GB0006731235',\n  'GB0008754136',\n  'GB0008847096',\n  'GB00B019KW72',\n  'GB00B10RZP78',\n  'GB00B24CGK77',\n  'IE0004906560',\n  'NL0000008977',\n  'NL0000009165',\n  'NL0000009355',\n  'NL0011794037',\n  'NO0003733800'],\n 'Consumer Discretionary': ['CH0012255151',\n  'CH0210483332',\n  'DE0005190003',\n  'DE0007100000',\n  'DE000A1EWWW0',\n  'DE000PAH0038',\n  'ES0148396007',\n  'FI0009005318',\n  'FR0000052292',\n  'FR0000120404',\n  'FR0000121014',\n  'FR0000121220',\n  'FR0000121261',\n  'FR0000121485',\n  'FR0000121501',\n  'FR0000121667',\n  'FR0000130403',\n  'FR0000131906',\n  'FR0013176526',\n  'GB0006825383',\n  'GB0031215220',\n  'GB0031274896',\n  'GB0031698896',\n  'GB0031743007',\n  'GB0033195214',\n  'GB00B02L3W35',\n  'GB00B1KJJ408',\n  'GB00BD6K4575',\n  'NL0010877643',\n  'SE0000103814',\n  'SE0000106270',\n  'SE0001662230'],\n 'Real Estate': ['CH0018294154',\n  'FR0000035081',\n  'FR0000064578',\n  'FR0000121964',\n  'FR0010040865',\n  'GB0001367019',\n  'GB0002652740',\n  'GB0004065016',\n  'GB0006834344',\n  'GB00B5ZN1N88',\n  'GB00BYW0PQ60',\n  'SE0000379190'],\n 'Information Technology': ['DE0006231004',\n  'DE0007164600',\n  'FI0009000681',\n  'FR0000051732',\n  'FR0000125338',\n  'FR0000130650',\n  'GB00B8C3BL03',\n  'NL0000226223',\n  'NL0010273215',\n  'SE0000103699',\n  'SE0000108656'],\n 'Utilities': ['DE0007037129',\n  'ES0116870314',\n  'ES0130960018',\n  'ES0144580Y14',\n  'ES0173093024',\n  'FI0009007132',\n  'FR0000124141',\n  'FR0010208488',\n  'FR0010242511',\n  'GB0007908733',\n  'GB00B033F229',\n  'GB00B18V8630',\n  'GB00B1FH8J72',\n  'GB00B39J2M42',\n  'GB00BDR05C01',\n  'IT0003128367',\n  'IT0003153415',\n  'IT0003242622',\n  'PTEDP0AM0009']}"
     },
     "execution_count": 6,
     "metadata": {},
     "output_type": "execute_result"
    }
   ],
   "source": [
    "stocks_by_sector"
   ]
  },
  {
   "cell_type": "code",
   "execution_count": 10,
   "metadata": {},
   "outputs": [],
   "source": [
    "# numpy.datetime64\n",
    "# I want to divide stocks in quintiles of mc for the year 2008\n",
    "# I want to divide stocks in quintiles of pb for the year 2008\n",
    "stocks_mc\n",
    "stocks_pb\n",
    "# quintiles = pd.quantile(q=0.2, axis='columns', numeric_only=True, interpolation='linear')\n",
    "\n",
    "dates =  pd.DatetimeIndex(stocks_mc.index)\n",
    "years = dates.year.unique()\n",
    "months = dates.month.unique()\n",
    "print(months)"
   ]
  },
  {
   "cell_type": "code",
   "execution_count": null,
   "outputs": [],
   "source": [
    "\n",
    "# stocks_mc_year = stocks_mc[ stocks_mc.index ]\n",
    "# print(stocks_mc[ stocks_mc.index.year == 2008])\n",
    "stocks_names = stocks_mc.columns.values.tolist()\n",
    "mean_by_year = {}\n",
    "for year in years:\n",
    "    mean_by_year[year] = stocks_mc[ stocks_mc.index.year == year].mean()\n",
    "\n",
    "mean_by_year = pd.DataFrame.from_dict(mean_by_year)\n",
    "df_2008 = mean_by_year[2008]\n",
    "# printdf_2008\n",
    "# = df_2008.quantile(q=0.2)\n",
    "quantile_2008 = pd.qcut(df_2008, 5, labels=range(5))\n",
    "\n",
    "df_mc_quint = {}\n",
    "for year in years:\n",
    "    df_mc_quint[year] = pd.qcut(mean_by_year[year], 5, labels=range(5))\n",
    "\n",
    "df_mc_quint = pd.DataFrame.from_dict(df_mc_quint)\n",
    "\n",
    "\n",
    "\n",
    "\n",
    "mean_by_year = {}\n",
    "for year in years:\n",
    "    mean_by_year[year] = stocks_pb[ stocks_pb.index.year == year].mean()\n",
    "\n",
    "mean_by_year = pd.DataFrame.from_dict(mean_by_year)\n",
    "\n",
    "df_pb_quint = {}\n",
    "for year in years:\n",
    "    df_pb_quint[year] = pd.qcut(mean_by_year[year], 5, labels=range(5))\n",
    "\n",
    "df_pb_quint = pd.DataFrame.from_dict(df_pb_quint)"
   ],
   "metadata": {
    "collapsed": false,
    "pycharm": {
     "name": "#%%\n"
    }
   }
  },
  {
   "cell_type": "code",
   "execution_count": null,
   "metadata": {},
   "outputs": [],
   "source": [
    "df_pb_quint"
   ]
  },
  {
   "cell_type": "code",
   "execution_count": null,
   "metadata": {},
   "outputs": [],
   "source": [
    "\n",
    "# def entropy_calculation ( dimension, vol_stock, year):\n",
    "#     for category in dimension:\n",
    "#         for stock in category:\n",
    "#             weighted_vol_stock = sum(vol_stock/len(category))\n",
    "#\n",
    "#             pij = sum(weighted_vol_stock)\n",
    "#\n",
    "#         vol_category_full = sum(pij)*np.log(sum(pij))\n",
    "#\n",
    "#     for category in dimension:\n",
    "#         vol_dimension = -sum(vol_category_full)\n",
    "#\n",
    "#     return vol_dimensi\n",
    "\n"
   ]
  },
  {
   "cell_type": "code",
   "execution_count": null,
   "metadata": {},
   "outputs": [],
   "source": [
    "import time\n",
    "dates  = pd.DatetimeIndex(stock_vol.index)\n",
    "years = dates.year.unique()\n",
    "volatility_by_year = {}\n",
    "# print(years)\n",
    "for year in years:\n",
    "     volatility_by_year[year] = stock_vol[ stock_vol.index.year == year].mean()\n",
    "        \n",
    "#\n",
    "\n",
    "\n",
    "# print(weights)\n",
    "num_portfolios = 2\n",
    "counter = 0\n",
    "start = time.time()\n",
    "porfolios_entropy = {}\n",
    "for portfolio in range(num_portfolios):\n",
    "    num_stocks = len(stocks_s_c)\n",
    "    weights = np.random.random(num_stocks)\n",
    "    weights = weights/np.sum(weights)\n",
    "    stock_weights ={}\n",
    "    for i, stock in enumerate(stocks_names):\n",
    "        stock_weights[stock] = weights[i]\n",
    "\n",
    "\n",
    "    sectors = stocks_by_sector.keys()\n",
    "    dimension = [sectors]\n",
    "    dimension_sector = {}\n",
    "    for year in years:\n",
    "        pij = 0\n",
    "        for sector in stocks_by_sector:\n",
    "            stocks = stocks_by_sector[sector]\n",
    "            for stock in stocks:\n",
    "                temp = volatility_by_year[year]\n",
    "                volatility = ((temp[temp.index == stock].iloc[0]) * stock_weights[stock])/len(stocks)\n",
    "                # print(volatility)\n",
    "\n",
    "\n",
    "    # * weight[stock]\n",
    "                pij += volatility\n",
    "                # break\n",
    "                # print(volatility)\n",
    "            # break\n",
    "            # print(pij,sector)\n",
    "        # print(pij,year)\n",
    "        pij = pij * np.log(pij)\n",
    "        dimension_sector[year] = pij\n",
    "\n",
    "        # break\n",
    "        # print(pij)\n",
    "        # print(pij,year)\n",
    "        # print()\n",
    "    porfolios_entropy[portfolio] = dimension_sector\n",
    "print(\"Total time = \" +str(float(time.time()-start))+ \" seconds\")"
   ]
  },
  {
   "cell_type": "code",
   "execution_count": null,
   "outputs": [],
   "source": [
    "#     dimension_country = {}\n",
    "#     for year in years:\n",
    "#         pij = 0\n",
    "#         for country in stocks_by_country:\n",
    "#             stocks = stocks_by_country[country]\n",
    "\n",
    "#             for stock in stocks:\n",
    "#                 for weight in weights: \n",
    "#                     temp = volatility_by_year[year]\n",
    "# #                     print(stock)\n",
    "#                     volatility = (temp[temp.index == stock].iloc[0]* weight)/len(stocks) # * weight[stock]\n",
    "#                     pij += volatility\n",
    "#                 # print(volatility)\n",
    "#             # print(pij,sector)\n",
    "#         # print(pij,year)\n",
    "#         pij = pij * np.log(pij)\n",
    "#         dimension_country[year] = pij\n",
    "\n",
    "\n",
    "\n",
    "#     dimension_mc = {}\n",
    "#     for year in years:\n",
    "#         pij = 0\n",
    "#         for quintil in range(5):\n",
    "#             stocks = df_mc_quint[year][df_mc_quint[year]==quintil].index\n",
    "#     #         print(stocks)\n",
    "#             for stock in stocks:\n",
    "#                 for weight in weights: \n",
    "#                     temp = volatility_by_year[year]\n",
    "#                     # print(stock)\n",
    "#                     volatility = (temp[temp.index == stock].iloc[0]* weight)/len(stocks) # * weight[stock]\n",
    "#                     pij += volatility\n",
    "#                 # print(volatility)\n",
    "#             # print(pij,sector)\n",
    "#         # print(pij,year)\n",
    "#         pij = pij * np.log(pij)\n",
    "#         dimension_mc[year] = pij\n",
    "\n",
    "#     dimension_pb = {}\n",
    "#     for year in years:\n",
    "#         pij = 0\n",
    "#         for quintil in range(5):\n",
    "#             stocks = df_pb_quint[year][df_pb_quint[year]==quintil].index\n",
    "#             # print(stocks)\n",
    "#             for stock in stocks:\n",
    "#                 for weight in weights: \n",
    "#                     temp = volatility_by_year[year]\n",
    "#                     # print(stock)\n",
    "#                     volatility = (temp[temp.index == stock].iloc[0]* weight[stock])/len(stocks) # * weight[stock]\n",
    "#                     pij += volatility\n",
    "#                     # print(volatility)\n",
    "#             # print(pij,sector)\n",
    "#         # print(pij,year)\n",
    "#         pij = pij * np.log(pij)\n",
    "#         dimension_pb[year] = pij\n",
    "        \n",
    "#     print(counter)\n",
    "#     counter+=1\n",
    "\n",
    "\n",
    "#     print(dimension_sector)\n",
    "#     print(dimension_country)\n",
    "#     print(dimension_mc)\n",
    "#     print(dimension_pb)\n",
    "    \n",
    "# end = time.time()\n",
    "# print(end - start) \n",
    "    \n",
    "# portfolio_entropy = {}\n",
    "# for year in years:\n",
    "#     sum_total = 0\n",
    "#     sum_total+= dimension_sector[year]+ dimension_country[year]\n",
    "#     sum_total+= dimension_mc[year]+dimension_pb[year]\n",
    "#     sum_total = sum_total * -1\n",
    "#     portfolio_entropy[year] = sum_total\n",
    "# print(portfolio_entropy)\n"
   ],
   "metadata": {
    "collapsed": false,
    "pycharm": {
     "name": "#%%\n"
    }
   }
  },
  {
   "cell_type": "markdown",
   "metadata": {},
   "source": [
    "### "
   ]
  },
  {
   "cell_type": "code",
   "execution_count": null,
   "metadata": {},
   "outputs": [],
   "source": []
  },
  {
   "cell_type": "code",
   "execution_count": null,
   "metadata": {},
   "outputs": [],
   "source": [
    "portfolio_entropy = {}\n",
    "for year in years:\n",
    "    sum_total = 0\n",
    "    sum_total+= dimension_sector[year]+ dimension_country[year]\n",
    "    sum_total+= dimension_mc[year]+dimension_pb[year]\n",
    "    sum_total = sum_total * -1\n",
    "    portfolio_entropy[year] = sum_total\n",
    "print(portfolio_entropy)\n",
    "\n",
    "\n",
    "#maximize the function using argmax\n",
    "\n"
   ]
  },
  {
   "cell_type": "code",
   "execution_count": null,
   "metadata": {},
   "outputs": [],
   "source": []
  },
  {
   "cell_type": "code",
   "execution_count": null,
   "metadata": {},
   "outputs": [],
   "source": []
  },
  {
   "cell_type": "code",
   "execution_count": null,
   "metadata": {},
   "outputs": [],
   "source": []
  },
  {
   "cell_type": "code",
   "execution_count": null,
   "metadata": {},
   "outputs": [],
   "source": [
    "# weight = np.array(range(len(stocks_s_c)))\n",
    "# # print(len(stocks_s_c))\n",
    "# print(weights)\n",
    "num_stocks = len(stocks_s_c)\n",
    "weight = np.random.random(num_stocks)\n",
    "weight = weights/np.sum(weights)\n",
    "\n",
    "    \n",
    "weight[33]"
   ]
  },
  {
   "cell_type": "code",
   "execution_count": null,
   "metadata": {},
   "outputs": [],
   "source": [
    "optimization = np.argmax(portfolio_entropy, axis = 0)\n",
    "print(optimization)"
   ]
  },
  {
   "cell_type": "code",
   "execution_count": null,
   "metadata": {},
   "outputs": [],
   "source": [
    "p_ret = []\n",
    "p_vol = []\n",
    "p_weights = []\n",
    "p_sharpe=[]\n",
    "\n",
    "num_stocks = len(stocks.columns)\n",
    "num_portfolios = 10\n"
   ]
  },
  {
   "cell_type": "code",
   "execution_count": null,
   "metadata": {},
   "outputs": [],
   "source": [
    "rf = (3.491/100)\n",
    "\n",
    "for portfolio in range(num_portfolios):\n",
    "    weights = np.random.random(num_stocks)\n",
    "    weights = weights/np.sum(weights)\n",
    "    p_weights.append(weights)\n",
    "    returns_p = np.dot(weights, e_r)\n",
    "    p_ret.append(returns_p)\n",
    "    var = cov_matrix.mul(weights, axis=0).mul(weights, axis=1).sum().sum()\n",
    "    sd = np.sqrt(var)\n",
    "    ann_sd = sd*np.sqrt(250)\n",
    "    p_vol.append(ann_sd)\n",
    "    \n",
    "    \n",
    "    \n",
    "    sharpe_p = ((p_ret[-1]-rf)/p_vol[-1])\n",
    "#     print(sharpe_ratio)\n",
    "    p_sharpe.append(sharpe_p)\n",
    "    "
   ]
  },
  {
   "cell_type": "code",
   "execution_count": null,
   "metadata": {},
   "outputs": [],
   "source": [
    "i=0\n",
    "j=60\n",
    "num_stocks = len(stocks.columns)\n",
    "num_portfolios = 10000\n",
    "\n",
    "while j<132-12:\n",
    "    "
   ]
  }
 ],
 "metadata": {
  "kernelspec": {
   "display_name": "Python 3",
   "language": "python",
   "name": "python3"
  },
  "language_info": {
   "codemirror_mode": {
    "name": "ipython",
    "version": 3
   },
   "file_extension": ".py",
   "mimetype": "text/x-python",
   "name": "python",
   "nbconvert_exporter": "python",
   "pygments_lexer": "ipython3",
   "version": "3.7.4"
  }
 },
 "nbformat": 4,
 "nbformat_minor": 2
}