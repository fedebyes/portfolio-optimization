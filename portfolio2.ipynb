{
 "cells": [
  {
   "cell_type": "code",
   "execution_count": 6,
   "metadata": {
    "collapsed": true
   },
   "outputs": [
    {
     "data": {
      "text/plain": "           2008          2009          2010          2011          2012  \\\n0  AT0000606306  AT0000606306  AT0000606306  AT0000606306  AT0000606306   \n1  AT0000652011  AT0000652011  AT0000652011  AT0000652011  AT0000652011   \n2  AT0000720008  AT0000720008  AT0000720008  AT0000720008  AT0000720008   \n3  AT0000730007  AT0000730007  AT0000730007  AT0000730007  AT0000730007   \n4  AT0000743059  AT0000743059  AT0000743059  AT0000743059  AT0000743059   \n\n           2013          2014          2015          2016          2017  \\\n0  AT0000606306  AT0000606306  AT0000606306  AT0000606306  AT0000606306   \n1  AT0000652011  AT0000652011  AT0000652011  AT0000652011  AT0000652011   \n2  AT0000720008  AT0000720008  AT0000730007  AT0000730007  AT0000730007   \n3  AT0000730007  AT0000730007  AT0000743059  AT0000743059  AT0000743059   \n4  AT0000743059  AT0000743059  AT0000937503  AT0000831706  AT0000831706   \n\n           2018  \n0  AT0000606306  \n1  AT0000652011  \n2  AT0000730007  \n3  AT0000743059  \n4  AT0000831706  ",
      "text/html": "<div>\n<style scoped>\n    .dataframe tbody tr th:only-of-type {\n        vertical-align: middle;\n    }\n\n    .dataframe tbody tr th {\n        vertical-align: top;\n    }\n\n    .dataframe thead th {\n        text-align: right;\n    }\n</style>\n<table border=\"1\" class=\"dataframe\">\n  <thead>\n    <tr style=\"text-align: right;\">\n      <th></th>\n      <th>2008</th>\n      <th>2009</th>\n      <th>2010</th>\n      <th>2011</th>\n      <th>2012</th>\n      <th>2013</th>\n      <th>2014</th>\n      <th>2015</th>\n      <th>2016</th>\n      <th>2017</th>\n      <th>2018</th>\n    </tr>\n  </thead>\n  <tbody>\n    <tr>\n      <th>0</th>\n      <td>AT0000606306</td>\n      <td>AT0000606306</td>\n      <td>AT0000606306</td>\n      <td>AT0000606306</td>\n      <td>AT0000606306</td>\n      <td>AT0000606306</td>\n      <td>AT0000606306</td>\n      <td>AT0000606306</td>\n      <td>AT0000606306</td>\n      <td>AT0000606306</td>\n      <td>AT0000606306</td>\n    </tr>\n    <tr>\n      <th>1</th>\n      <td>AT0000652011</td>\n      <td>AT0000652011</td>\n      <td>AT0000652011</td>\n      <td>AT0000652011</td>\n      <td>AT0000652011</td>\n      <td>AT0000652011</td>\n      <td>AT0000652011</td>\n      <td>AT0000652011</td>\n      <td>AT0000652011</td>\n      <td>AT0000652011</td>\n      <td>AT0000652011</td>\n    </tr>\n    <tr>\n      <th>2</th>\n      <td>AT0000720008</td>\n      <td>AT0000720008</td>\n      <td>AT0000720008</td>\n      <td>AT0000720008</td>\n      <td>AT0000720008</td>\n      <td>AT0000720008</td>\n      <td>AT0000720008</td>\n      <td>AT0000730007</td>\n      <td>AT0000730007</td>\n      <td>AT0000730007</td>\n      <td>AT0000730007</td>\n    </tr>\n    <tr>\n      <th>3</th>\n      <td>AT0000730007</td>\n      <td>AT0000730007</td>\n      <td>AT0000730007</td>\n      <td>AT0000730007</td>\n      <td>AT0000730007</td>\n      <td>AT0000730007</td>\n      <td>AT0000730007</td>\n      <td>AT0000743059</td>\n      <td>AT0000743059</td>\n      <td>AT0000743059</td>\n      <td>AT0000743059</td>\n    </tr>\n    <tr>\n      <th>4</th>\n      <td>AT0000743059</td>\n      <td>AT0000743059</td>\n      <td>AT0000743059</td>\n      <td>AT0000743059</td>\n      <td>AT0000743059</td>\n      <td>AT0000743059</td>\n      <td>AT0000743059</td>\n      <td>AT0000937503</td>\n      <td>AT0000831706</td>\n      <td>AT0000831706</td>\n      <td>AT0000831706</td>\n    </tr>\n  </tbody>\n</table>\n</div>"
     },
     "execution_count": 6,
     "metadata": {},
     "output_type": "execute_result"
    }
   ],
   "source": [
    "from scipy.optimize import minimize\n",
    "import numpy as np\n",
    "import pandas as pd\n",
    "\n",
    "file = r'./data.csv'\n",
    "stock_names = pd.read_csv(file, sep=\";\")\n",
    "stock_names.head()\n",
    "\n",
    "\n",
    "\n"
   ]
  }
 ],
 "metadata": {
  "kernelspec": {
   "display_name": "Python 3",
   "language": "python",
   "name": "python3"
  },
  "language_info": {
   "codemirror_mode": {
    "name": "ipython",
    "version": 2
   },
   "file_extension": ".py",
   "mimetype": "text/x-python",
   "name": "python",
   "nbconvert_exporter": "python",
   "pygments_lexer": "ipython2",
   "version": "2.7.6"
  }
 },
 "nbformat": 4,
 "nbformat_minor": 0
}